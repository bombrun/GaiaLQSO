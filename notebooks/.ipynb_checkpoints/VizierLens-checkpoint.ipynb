{
 "cells": [
  {
   "cell_type": "code",
   "execution_count": 1,
   "metadata": {},
   "outputs": [],
   "source": [
    "import numpy as np\n",
    "import time\n",
    "import matplotlib as mp\n",
    "import matplotlib.pyplot as plt\n",
    "import pandas as pd\n",
    "import healpy as hp\n",
    "%matplotlib inline"
   ]
  },
  {
   "cell_type": "code",
   "execution_count": 2,
   "metadata": {},
   "outputs": [],
   "source": [
    "from astroquery.vizier import Vizier"
   ]
  },
  {
   "cell_type": "code",
   "execution_count": 34,
   "metadata": {},
   "outputs": [],
   "source": [
    "import astropy.units as u\n",
    "from astropy.coordinates.sky_coordinate import SkyCoord"
   ]
  },
  {
   "cell_type": "code",
   "execution_count": 38,
   "metadata": {},
   "outputs": [],
   "source": [
    "def plotVizierLense(d,center,r=(-5,5),pm=True):\n",
    "    scale = u.arcsecond.to(u.deg)\n",
    "    x = (d.RA_ICRS-center.ra.deg)/scale\n",
    "    y = (d.DE_ICRS-center.dec.deg)/scale\n",
    "    plt.errorbar(x,y,xerr=d.e_RA_ICRS, yerr=d.e_DE_ICRS,fmt='.')\n",
    "    plt.scatter(x,y,s=100*np.exp(20-d.Gmag))\n",
    "    if pm : \n",
    "        vx = d.pmRA\n",
    "        vy = d.pmDE\n",
    "        plt.quiver(x,y, vx, vy, angles='xy', scale_units='xy', scale=1)\n",
    "        plt.errorbar(x+vx,y+vy,xerr=d.e_pmRA, yerr=d.e_pmDE,fmt='o')\n",
    "    plt.grid()\n",
    "    plt.xlabel(\"gaia.ra - center.ra [\\\"]\")\n",
    "    plt.ylabel(\"gaia.dec - center.dec [\\\"]\")\n",
    "    plt.title(center)\n",
    "    plt.xlim(r)\n",
    "    plt.ylim(r)"
   ]
  },
  {
   "cell_type": "code",
   "execution_count": 40,
   "metadata": {},
   "outputs": [],
   "source": [
    "qso =  SkyCoord.from_name(\"HE 0435-1223\")"
   ]
  },
  {
   "cell_type": "code",
   "execution_count": 41,
   "metadata": {},
   "outputs": [],
   "source": [
    "d = Vizier.query_region(qso,catalog='I/345/gaia2',radius='5000 mas').values()[0].to_pandas()"
   ]
  },
  {
   "cell_type": "code",
   "execution_count": 42,
   "metadata": {},
   "outputs": [
    {
     "data": {
      "image/png": "[encoded data removed]",
      "text/plain": [
       "<matplotlib.figure.Figure at 0x122b7a6a0>"
      ]
     },
     "metadata": {},
     "output_type": "display_data"
    }
   ],
   "source": [
    "plotVizierLense(d,qso)"
   ]
  },
  {
   "cell_type": "code",
   "execution_count": 54,
   "metadata": {},
   "outputs": [],
   "source": [
    "qso =  SkyCoord.from_name(\"Q1634+267\")"
   ]
  },
  {
   "cell_type": "code",
   "execution_count": 55,
   "metadata": {},
   "outputs": [],
   "source": [
    "r = Vizier.query_region(qso,catalog='I/345/gaia2',radius='5000 mas')"
   ]
  },
  {
   "cell_type": "code",
   "execution_count": 56,
   "metadata": {},
   "outputs": [
    {
     "data": {
      "text/plain": [
       "Empty TableList"
      ]
     },
     "execution_count": 56,
     "metadata": {},
     "output_type": "execute_result"
    }
   ],
   "source": [
    "r"
   ]
  },
  {
   "cell_type": "code",
   "execution_count": null,
   "metadata": {},
   "outputs": [],
   "source": []
  }
 ],
 "metadata": {
  "kernelspec": {
   "display_name": "Python 3",
   "language": "python",
   "name": "python3"
  },
  "language_info": {
   "codemirror_mode": {
    "name": "ipython",
    "version": 3
   },
   "file_extension": ".py",
   "mimetype": "text/x-python",
   "name": "python",
   "nbconvert_exporter": "python",
   "pygments_lexer": "ipython3",
   "version": "3.6.4"
  }
 },
 "nbformat": 4,
 "nbformat_minor": 2
}
