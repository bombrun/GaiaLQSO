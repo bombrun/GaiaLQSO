{
 "cells": [
  {
   "cell_type": "markdown",
   "metadata": {},
   "source": [
    "A quick look at known lensed QSOs"
   ]
  },
  {
   "cell_type": "markdown",
   "metadata": {},
   "source": [
    "# Castles webpage"
   ]
  },
  {
   "cell_type": "markdown",
   "metadata": {},
   "source": [
    "https://www.cfa.harvard.edu/castles/"
   ]
  },
  {
   "cell_type": "code",
   "execution_count": 1,
   "metadata": {},
   "outputs": [
    {
     "data": {
      "text/plain": [
       "'/Users/abombrun/IPythonNB/Projects/Preparation4Stat'"
      ]
     },
     "execution_count": 1,
     "metadata": {},
     "output_type": "execute_result"
    }
   ],
   "source": [
    "pwd"
   ]
  },
  {
   "cell_type": "code",
   "execution_count": 2,
   "metadata": {},
   "outputs": [],
   "source": [
    "%matplotlib inline\n",
    "from astropy.table import Table\n",
    "import pandas as pd\n",
    "import matplotlib.pyplot as plt\n",
    "import numpy as np\n",
    "from astropy.coordinates.sky_coordinate import SkyCoord\n",
    "import astropy.units as u\n",
    "import matplotlib as mp"
   ]
  },
  {
   "cell_type": "code",
   "execution_count": 3,
   "metadata": {},
   "outputs": [],
   "source": [
    "mp.rcParams['figure.figsize'] = (12, 8)"
   ]
  },
  {
   "cell_type": "code",
   "execution_count": 4,
   "metadata": {},
   "outputs": [],
   "source": [
    "Lqso = pd.read_csv(\"data/lensedQSO.csv\",sep='\\t',skipinitialspace=True)"
   ]
  },
  {
   "cell_type": "code",
   "execution_count": 5,
   "metadata": {},
   "outputs": [
    {
     "data": {
      "text/plain": [
       "Index(['#', 'Image', 'Lens Name', 'G', 'zs', 'zl', 'RA (J2000)', 'Dec (J2000)',\n",
       "       'E(B-V)', 'ms (mag)', 'ml (mag)', 'FGHz (mJy)', 'Nim', 'size (\")',\n",
       "       'dt (days)', 'sigma (km/s)'],\n",
       "      dtype='object')"
      ]
     },
     "execution_count": 5,
     "metadata": {},
     "output_type": "execute_result"
    }
   ],
   "source": [
    "Lqso.columns"
   ]
  },
  {
   "cell_type": "code",
   "execution_count": 6,
   "metadata": {},
   "outputs": [],
   "source": [
    "Lqso.columns = ['#', 'Image', 'name', 'G', 'zs', 'zl', 'Ra', 'Dec',\n",
    "       'Ext', 'ms', 'ml', 'FGHz', 'Nim', 'dl',\n",
    "       'dt', 'sigma']"
   ]
  },
  {
   "cell_type": "markdown",
   "metadata": {},
   "source": [
    "number of confirmed lensed"
   ]
  },
  {
   "cell_type": "code",
   "execution_count": 7,
   "metadata": {},
   "outputs": [
    {
     "data": {
      "text/html": [
       "<div>\n",
       "<style scoped>\n",
       "    .dataframe tbody tr th:only-of-type {\n",
       "        vertical-align: middle;\n",
       "    }\n",
       "\n",
       "    .dataframe tbody tr th {\n",
       "        vertical-align: top;\n",
       "    }\n",
       "\n",
       "    .dataframe thead th {\n",
       "        text-align: right;\n",
       "    }\n",
       "</style>\n",
       "<table border=\"1\" class=\"dataframe\">\n",
       "  <thead>\n",
       "    <tr style=\"text-align: right;\">\n",
       "      <th></th>\n",
       "      <th>#</th>\n",
       "      <th>Image</th>\n",
       "      <th>name</th>\n",
       "      <th>G</th>\n",
       "      <th>zs</th>\n",
       "      <th>zl</th>\n",
       "      <th>Ra</th>\n",
       "      <th>Dec</th>\n",
       "      <th>Ext</th>\n",
       "      <th>ms</th>\n",
       "      <th>ml</th>\n",
       "      <th>FGHz</th>\n",
       "      <th>Nim</th>\n",
       "      <th>dl</th>\n",
       "      <th>dt</th>\n",
       "      <th>sigma</th>\n",
       "    </tr>\n",
       "  </thead>\n",
       "  <tbody>\n",
       "    <tr>\n",
       "      <th>0</th>\n",
       "      <td>1</td>\n",
       "      <td>NaN</td>\n",
       "      <td>Q0047-2808</td>\n",
       "      <td>A</td>\n",
       "      <td>3.60</td>\n",
       "      <td>0.48</td>\n",
       "      <td>00:49:41.89</td>\n",
       "      <td>-27:52:25.7</td>\n",
       "      <td>0.016</td>\n",
       "      <td>NaN</td>\n",
       "      <td>I=20.05</td>\n",
       "      <td>NaN</td>\n",
       "      <td>4ER</td>\n",
       "      <td>2.70</td>\n",
       "      <td>NaN</td>\n",
       "      <td>229±15</td>\n",
       "    </tr>\n",
       "    <tr>\n",
       "      <th>1</th>\n",
       "      <td>2</td>\n",
       "      <td>NaN</td>\n",
       "      <td>HE0047-1756</td>\n",
       "      <td>A</td>\n",
       "      <td>1.66</td>\n",
       "      <td>0.41</td>\n",
       "      <td>00:50:27.83</td>\n",
       "      <td>-17:40:8.8</td>\n",
       "      <td>0.022</td>\n",
       "      <td>I=16.53/2</td>\n",
       "      <td>I=18.97</td>\n",
       "      <td>NaN</td>\n",
       "      <td>2</td>\n",
       "      <td>1.44</td>\n",
       "      <td>NaN</td>\n",
       "      <td>NaN</td>\n",
       "    </tr>\n",
       "    <tr>\n",
       "      <th>5</th>\n",
       "      <td>6</td>\n",
       "      <td>NaN</td>\n",
       "      <td>PMNJ0134-0931</td>\n",
       "      <td>A</td>\n",
       "      <td>2.216</td>\n",
       "      <td>0.77</td>\n",
       "      <td>01:34:35.67</td>\n",
       "      <td>-09:31:02.9</td>\n",
       "      <td>0.031</td>\n",
       "      <td>I=18.96/4</td>\n",
       "      <td>I=19.31</td>\n",
       "      <td>F5=529</td>\n",
       "      <td>5R</td>\n",
       "      <td>0.73</td>\n",
       "      <td>NaN</td>\n",
       "      <td>NaN</td>\n",
       "    </tr>\n",
       "    <tr>\n",
       "      <th>6</th>\n",
       "      <td>7</td>\n",
       "      <td>NaN</td>\n",
       "      <td>Q0142-100</td>\n",
       "      <td>A</td>\n",
       "      <td>2.72</td>\n",
       "      <td>0.49</td>\n",
       "      <td>01:45:16.5</td>\n",
       "      <td>-09:45:17</td>\n",
       "      <td>0.031</td>\n",
       "      <td>I=16.47/2</td>\n",
       "      <td>I=18.72</td>\n",
       "      <td>F5~1</td>\n",
       "      <td>2</td>\n",
       "      <td>2.24</td>\n",
       "      <td>NaN</td>\n",
       "      <td>NaN</td>\n",
       "    </tr>\n",
       "    <tr>\n",
       "      <th>7</th>\n",
       "      <td>8</td>\n",
       "      <td>NaN</td>\n",
       "      <td>QJ0158-4325</td>\n",
       "      <td>A</td>\n",
       "      <td>1.29</td>\n",
       "      <td>0.317</td>\n",
       "      <td>01:58:41.44</td>\n",
       "      <td>-43:25:04.20</td>\n",
       "      <td>0.015</td>\n",
       "      <td>I=17.39/2</td>\n",
       "      <td>I=18.91</td>\n",
       "      <td>F8&lt;0.2</td>\n",
       "      <td>2</td>\n",
       "      <td>1.22</td>\n",
       "      <td>NaN</td>\n",
       "      <td>NaN</td>\n",
       "    </tr>\n",
       "    <tr>\n",
       "      <th>8</th>\n",
       "      <td>9</td>\n",
       "      <td>NaN</td>\n",
       "      <td>B0218+357</td>\n",
       "      <td>A</td>\n",
       "      <td>0.96</td>\n",
       "      <td>0.68</td>\n",
       "      <td>02:21:05.483</td>\n",
       "      <td>+35:56:13.78</td>\n",
       "      <td>0.068</td>\n",
       "      <td>I=19.28/2</td>\n",
       "      <td>I=20.06</td>\n",
       "      <td>F5=1209</td>\n",
       "      <td>2ER</td>\n",
       "      <td>0.34</td>\n",
       "      <td>10.5±0.4</td>\n",
       "      <td>NaN</td>\n",
       "    </tr>\n",
       "    <tr>\n",
       "      <th>9</th>\n",
       "      <td>10</td>\n",
       "      <td>NaN</td>\n",
       "      <td>HE0230-2130</td>\n",
       "      <td>A</td>\n",
       "      <td>2.162</td>\n",
       "      <td>0.52</td>\n",
       "      <td>02:32:33.1</td>\n",
       "      <td>-21:17:26</td>\n",
       "      <td>0.022</td>\n",
       "      <td>I=18.00/4</td>\n",
       "      <td>I=20.39</td>\n",
       "      <td>NaN</td>\n",
       "      <td>4</td>\n",
       "      <td>2.05</td>\n",
       "      <td>NaN</td>\n",
       "      <td>NaN</td>\n",
       "    </tr>\n",
       "    <tr>\n",
       "      <th>10</th>\n",
       "      <td>11</td>\n",
       "      <td>NaN</td>\n",
       "      <td>SDSS0246-0825</td>\n",
       "      <td>A</td>\n",
       "      <td>1.68</td>\n",
       "      <td>NaN</td>\n",
       "      <td>02:46:34.11</td>\n",
       "      <td>-08:25:36.2</td>\n",
       "      <td>0.026</td>\n",
       "      <td>I=16.98/2</td>\n",
       "      <td>I=20.82</td>\n",
       "      <td>NaN</td>\n",
       "      <td>2</td>\n",
       "      <td>1.19</td>\n",
       "      <td>NaN</td>\n",
       "      <td>NaN</td>\n",
       "    </tr>\n",
       "    <tr>\n",
       "      <th>12</th>\n",
       "      <td>13</td>\n",
       "      <td>NaN</td>\n",
       "      <td>J0332-2756</td>\n",
       "      <td>A</td>\n",
       "      <td>NaN</td>\n",
       "      <td>0.617</td>\n",
       "      <td>03:32:38.22</td>\n",
       "      <td>-27:56:52.9</td>\n",
       "      <td>0.008</td>\n",
       "      <td>V=-1.95/6</td>\n",
       "      <td>V=20.74</td>\n",
       "      <td>NaN</td>\n",
       "      <td>2E</td>\n",
       "      <td>3.64</td>\n",
       "      <td>NaN</td>\n",
       "      <td>NaN</td>\n",
       "    </tr>\n",
       "    <tr>\n",
       "      <th>13</th>\n",
       "      <td>14</td>\n",
       "      <td>NaN</td>\n",
       "      <td>MG0414+0534</td>\n",
       "      <td>A</td>\n",
       "      <td>2.64</td>\n",
       "      <td>0.96</td>\n",
       "      <td>04:14:37.73</td>\n",
       "      <td>+05:34:44.3</td>\n",
       "      <td>0.303</td>\n",
       "      <td>I=19.62/4</td>\n",
       "      <td>I=20.91</td>\n",
       "      <td>F5=977</td>\n",
       "      <td>4E</td>\n",
       "      <td>2.40</td>\n",
       "      <td>NaN</td>\n",
       "      <td>NaN</td>\n",
       "    </tr>\n",
       "  </tbody>\n",
       "</table>\n",
       "</div>"
      ],
      "text/plain": [
       "     #  Image           name  G     zs     zl            Ra           Dec  \\\n",
       "0    1    NaN     Q0047-2808  A   3.60   0.48   00:49:41.89   -27:52:25.7   \n",
       "1    2    NaN    HE0047-1756  A   1.66   0.41   00:50:27.83    -17:40:8.8   \n",
       "5    6    NaN  PMNJ0134-0931  A  2.216   0.77   01:34:35.67   -09:31:02.9   \n",
       "6    7    NaN      Q0142-100  A   2.72   0.49    01:45:16.5     -09:45:17   \n",
       "7    8    NaN    QJ0158-4325  A   1.29  0.317   01:58:41.44  -43:25:04.20   \n",
       "8    9    NaN      B0218+357  A   0.96   0.68  02:21:05.483  +35:56:13.78   \n",
       "9   10    NaN    HE0230-2130  A  2.162   0.52    02:32:33.1     -21:17:26   \n",
       "10  11    NaN  SDSS0246-0825  A   1.68    NaN   02:46:34.11   -08:25:36.2   \n",
       "12  13    NaN     J0332-2756  A    NaN  0.617   03:32:38.22   -27:56:52.9   \n",
       "13  14    NaN    MG0414+0534  A   2.64   0.96   04:14:37.73   +05:34:44.3   \n",
       "\n",
       "      Ext         ms       ml     FGHz  Nim    dl        dt   sigma  \n",
       "0   0.016        NaN  I=20.05      NaN  4ER  2.70       NaN  229±15  \n",
       "1   0.022  I=16.53/2  I=18.97      NaN    2  1.44       NaN     NaN  \n",
       "5   0.031  I=18.96/4  I=19.31   F5=529   5R  0.73       NaN     NaN  \n",
       "6   0.031  I=16.47/2  I=18.72     F5~1    2  2.24       NaN     NaN  \n",
       "7   0.015  I=17.39/2  I=18.91   F8<0.2    2  1.22       NaN     NaN  \n",
       "8   0.068  I=19.28/2  I=20.06  F5=1209  2ER  0.34  10.5±0.4     NaN  \n",
       "9   0.022  I=18.00/4  I=20.39      NaN    4  2.05       NaN     NaN  \n",
       "10  0.026  I=16.98/2  I=20.82      NaN    2  1.19       NaN     NaN  \n",
       "12  0.008  V=-1.95/6  V=20.74      NaN   2E  3.64       NaN     NaN  \n",
       "13  0.303  I=19.62/4  I=20.91   F5=977   4E  2.40       NaN     NaN  "
      ]
     },
     "execution_count": 7,
     "metadata": {},
     "output_type": "execute_result"
    }
   ],
   "source": [
    "Lqso[Lqso.G=='A'][:10]"
   ]
  },
  {
   "cell_type": "code",
   "execution_count": 8,
   "metadata": {},
   "outputs": [],
   "source": [
    "Lqso.Ra = Lqso.Ra.apply(str)\n",
    "Lqso.Dec = Lqso.Dec.apply(str)\n",
    "Lqso['ra_deg'] = SkyCoord(Lqso.Ra.values,Lqso.Dec.values,unit=(u.hourangle, u.deg)).ra.deg\n",
    "Lqso['dec_deg'] = SkyCoord(Lqso.Ra.values,Lqso.Dec.values,unit=(u.hourangle, u.deg)).dec.deg\n",
    "Lqso['ra'] = SkyCoord(Lqso.Ra.values,Lqso.Dec.values,unit=(u.hourangle, u.deg)).ra.rad\n",
    "Lqso['dec'] = SkyCoord(Lqso.Ra.values,Lqso.Dec.values,unit=(u.hourangle, u.deg)).dec.rad"
   ]
  },
  {
   "cell_type": "code",
   "execution_count": 10,
   "metadata": {},
   "outputs": [
    {
     "data": {
      "image/png": "[encoded data removed]",
      "text/plain": [
       "<matplotlib.figure.Figure at 0x11463afd0>"
      ]
     },
     "metadata": {},
     "output_type": "display_data"
    }
   ],
   "source": [
    "plt.subplot(111,projection=\"mollweide\")\n",
    "plt.scatter(Lqso.ra-np.pi,Lqso.dec)\n",
    "plt.grid()"
   ]
  },
  {
   "cell_type": "code",
   "execution_count": 11,
   "metadata": {},
   "outputs": [
    {
     "data": {
      "text/html": [
       "<div>\n",
       "<style scoped>\n",
       "    .dataframe tbody tr th:only-of-type {\n",
       "        vertical-align: middle;\n",
       "    }\n",
       "\n",
       "    .dataframe tbody tr th {\n",
       "        vertical-align: top;\n",
       "    }\n",
       "\n",
       "    .dataframe thead th {\n",
       "        text-align: right;\n",
       "    }\n",
       "</style>\n",
       "<table border=\"1\" class=\"dataframe\">\n",
       "  <thead>\n",
       "    <tr style=\"text-align: right;\">\n",
       "      <th></th>\n",
       "      <th>#</th>\n",
       "      <th>Image</th>\n",
       "      <th>name</th>\n",
       "      <th>G</th>\n",
       "      <th>zs</th>\n",
       "      <th>zl</th>\n",
       "      <th>Ra</th>\n",
       "      <th>Dec</th>\n",
       "      <th>Ext</th>\n",
       "      <th>ms</th>\n",
       "      <th>ml</th>\n",
       "      <th>FGHz</th>\n",
       "      <th>Nim</th>\n",
       "      <th>dl</th>\n",
       "      <th>dt</th>\n",
       "      <th>sigma</th>\n",
       "      <th>ra_deg</th>\n",
       "      <th>dec_deg</th>\n",
       "      <th>ra</th>\n",
       "      <th>dec</th>\n",
       "    </tr>\n",
       "  </thead>\n",
       "  <tbody>\n",
       "    <tr>\n",
       "      <th>30</th>\n",
       "      <td>31</td>\n",
       "      <td>NaN</td>\n",
       "      <td>RXJ0921+4529</td>\n",
       "      <td>B</td>\n",
       "      <td>1.65</td>\n",
       "      <td>0.31</td>\n",
       "      <td>09:21:12.81</td>\n",
       "      <td>+45:29:04.4</td>\n",
       "      <td>0.018</td>\n",
       "      <td>I=17.74/3</td>\n",
       "      <td>I=20.24</td>\n",
       "      <td>NaN</td>\n",
       "      <td>2</td>\n",
       "      <td>6.97</td>\n",
       "      <td>NaN</td>\n",
       "      <td>NaN</td>\n",
       "      <td>140.303375</td>\n",
       "      <td>45.484556</td>\n",
       "      <td>2.448756</td>\n",
       "      <td>0.793855</td>\n",
       "    </tr>\n",
       "    <tr>\n",
       "      <th>34</th>\n",
       "      <td>35</td>\n",
       "      <td>NaN</td>\n",
       "      <td>Q0957+561</td>\n",
       "      <td>A</td>\n",
       "      <td>1.41</td>\n",
       "      <td>0.36</td>\n",
       "      <td>10:01:20.78</td>\n",
       "      <td>+55:53:49.4</td>\n",
       "      <td>0.009</td>\n",
       "      <td>I=15.99/2</td>\n",
       "      <td>I=17.12</td>\n",
       "      <td>F5=65.6</td>\n",
       "      <td>2E</td>\n",
       "      <td>6.26</td>\n",
       "      <td>417.0±3.0</td>\n",
       "      <td>288±9</td>\n",
       "      <td>150.336583</td>\n",
       "      <td>55.897056</td>\n",
       "      <td>2.623868</td>\n",
       "      <td>0.975588</td>\n",
       "    </tr>\n",
       "    <tr>\n",
       "      <th>37</th>\n",
       "      <td>38</td>\n",
       "      <td>NaN</td>\n",
       "      <td>SDSS1004+4112</td>\n",
       "      <td>A</td>\n",
       "      <td>1.734</td>\n",
       "      <td>0.68</td>\n",
       "      <td>10:04:34.91</td>\n",
       "      <td>+41:12:42.8</td>\n",
       "      <td>0.013</td>\n",
       "      <td>i=17.53/4</td>\n",
       "      <td>i=18.42</td>\n",
       "      <td>NaN</td>\n",
       "      <td>4</td>\n",
       "      <td>15.99</td>\n",
       "      <td>821.6±2.1</td>\n",
       "      <td>NaN</td>\n",
       "      <td>151.145458</td>\n",
       "      <td>41.211889</td>\n",
       "      <td>2.637986</td>\n",
       "      <td>0.719283</td>\n",
       "    </tr>\n",
       "    <tr>\n",
       "      <th>43</th>\n",
       "      <td>44</td>\n",
       "      <td>NaN</td>\n",
       "      <td>SDSS1029+2623</td>\n",
       "      <td>A</td>\n",
       "      <td>2.197</td>\n",
       "      <td>0.55</td>\n",
       "      <td>10:29:13.35</td>\n",
       "      <td>+26:23:31.8</td>\n",
       "      <td>0.022</td>\n",
       "      <td>NaN</td>\n",
       "      <td>NaN</td>\n",
       "      <td>NaN</td>\n",
       "      <td>4</td>\n",
       "      <td>22.50</td>\n",
       "      <td>746.±10.</td>\n",
       "      <td>NaN</td>\n",
       "      <td>157.305625</td>\n",
       "      <td>26.392167</td>\n",
       "      <td>2.745501</td>\n",
       "      <td>0.460630</td>\n",
       "    </tr>\n",
       "  </tbody>\n",
       "</table>\n",
       "</div>"
      ],
      "text/plain": [
       "     #  Image           name  G     zs    zl           Ra          Dec    Ext  \\\n",
       "30  31    NaN   RXJ0921+4529  B   1.65  0.31  09:21:12.81  +45:29:04.4  0.018   \n",
       "34  35    NaN      Q0957+561  A   1.41  0.36  10:01:20.78  +55:53:49.4  0.009   \n",
       "37  38    NaN  SDSS1004+4112  A  1.734  0.68  10:04:34.91  +41:12:42.8  0.013   \n",
       "43  44    NaN  SDSS1029+2623  A  2.197  0.55  10:29:13.35  +26:23:31.8  0.022   \n",
       "\n",
       "           ms       ml     FGHz Nim     dl         dt  sigma      ra_deg  \\\n",
       "30  I=17.74/3  I=20.24      NaN   2   6.97        NaN    NaN  140.303375   \n",
       "34  I=15.99/2  I=17.12  F5=65.6  2E   6.26  417.0±3.0  288±9  150.336583   \n",
       "37  i=17.53/4  i=18.42      NaN   4  15.99  821.6±2.1    NaN  151.145458   \n",
       "43        NaN      NaN      NaN   4  22.50   746.±10.    NaN  157.305625   \n",
       "\n",
       "      dec_deg        ra       dec  \n",
       "30  45.484556  2.448756  0.793855  \n",
       "34  55.897056  2.623868  0.975588  \n",
       "37  41.211889  2.637986  0.719283  \n",
       "43  26.392167  2.745501  0.460630  "
      ]
     },
     "execution_count": 11,
     "metadata": {},
     "output_type": "execute_result"
    }
   ],
   "source": [
    "Lqso[Lqso.dl>5]"
   ]
  },
  {
   "cell_type": "code",
   "execution_count": 12,
   "metadata": {},
   "outputs": [
    {
     "data": {
      "text/plain": [
       "Text(0.5,0,\"lens size ['']\")"
      ]
     },
     "execution_count": 12,
     "metadata": {},
     "output_type": "execute_result"
    },
    {
     "data": {
      "image/png": "[encoded data removed]",
      "text/plain": [
       "<matplotlib.figure.Figure at 0x114b0dda0>"
      ]
     },
     "metadata": {},
     "output_type": "display_data"
    }
   ],
   "source": [
    "plt.subplot(221)\n",
    "Lqso.dl.hist(bins=30,range=(0,30))\n",
    "plt.xlabel(\"lens size ['']\")\n",
    "plt.ylabel(\"number of lenses\")\n",
    "\n",
    "plt.subplot(222)\n",
    "Lqso.dl.hist(bins=50,range=(0,5))\n",
    "plt.xlabel(\"lens size ['']\")"
   ]
  },
  {
   "cell_type": "code",
   "execution_count": 13,
   "metadata": {},
   "outputs": [],
   "source": [
    "from pyparsing import nestedExpr"
   ]
  },
  {
   "cell_type": "code",
   "execution_count": 14,
   "metadata": {},
   "outputs": [],
   "source": [
    "def parseZ(s):\n",
    "    \"\"\" parse crazy values\"\"\"\n",
    "    ss = str(s)\n",
    "    try :\n",
    "        if '(' in ss :\n",
    "            res = nestedExpr('(',')').parseString(ss).asList()\n",
    "            return np.double(res[0][0])\n",
    "        return np.double(ss)\n",
    "    except :\n",
    "        return np.nan"
   ]
  },
  {
   "cell_type": "code",
   "execution_count": 19,
   "metadata": {},
   "outputs": [
    {
     "data": {
      "text/plain": [
       "<matplotlib.legend.Legend at 0x1a17425da0>"
      ]
     },
     "execution_count": 19,
     "metadata": {},
     "output_type": "execute_result"
    },
    {
     "data": {
      "image/png": "[encoded data removed]",
      "text/plain": [
       "<matplotlib.figure.Figure at 0x114cccbe0>"
      ]
     },
     "metadata": {},
     "output_type": "display_data"
    }
   ],
   "source": [
    "plt.subplot(221)\n",
    "Lqso.zs.apply(parseZ).plot.kde(label=\"source\")\n",
    "Lqso.zl.apply(parseZ).plot.kde(label=\"lens\")\n",
    "plt.xlabel(\"red shift\")\n",
    "plt.legend()\n",
    "plt.xlim(0,3)\n",
    "\n",
    "plt.subplot(222)\n",
    "Lqso.zs.apply(parseZ).hist(bins=100,label=\"source\",range=(0,10))\n",
    "Lqso.zl.apply(parseZ).hist(bins=100,label=\"lens\",range=(0,10))\n",
    "plt.xlabel(\"red shift\")\n",
    "plt.legend()\n",
    "\n",
    "plt.subplot(223)\n",
    "zl = np.random.lognormal(0,0.5,100)\n",
    "zs = np.random.lognormal(1,0.2,100)\n",
    "plt.hist(zs,bins=100,label=\"source\",range=(0,10));\n",
    "plt.hist(zl,bins=100,label=\"lens\",range=(0,10));\n",
    "plt.legend()"
   ]
  },
  {
   "cell_type": "code",
   "execution_count": 19,
   "metadata": {},
   "outputs": [],
   "source": [
    "Lqso.to_csv(\"Lqso.csv\")"
   ]
  },
  {
   "cell_type": "markdown",
   "metadata": {
    "collapsed": true
   },
   "source": [
    "# Simbad"
   ]
  },
  {
   "cell_type": "code",
   "execution_count": 21,
   "metadata": {},
   "outputs": [],
   "source": [
    "from astroquery.simbad import Simbad"
   ]
  },
  {
   "cell_type": "code",
   "execution_count": 22,
   "metadata": {},
   "outputs": [],
   "source": [
    "mySimbad = Simbad()"
   ]
  },
  {
   "cell_type": "markdown",
   "metadata": {},
   "source": [
    "mySimbad.list_votable_fields()"
   ]
  },
  {
   "cell_type": "code",
   "execution_count": 23,
   "metadata": {},
   "outputs": [],
   "source": [
    "mySimbad.add_votable_fields('z_value','flux(I)','flux(V)')"
   ]
  },
  {
   "cell_type": "code",
   "execution_count": 24,
   "metadata": {},
   "outputs": [
    {
     "data": {
      "text/plain": [
       "['main_id', 'coordinates', 'z_value', 'flux(I)', 'flux(V)']"
      ]
     },
     "execution_count": 24,
     "metadata": {},
     "output_type": "execute_result"
    }
   ],
   "source": [
    "mySimbad.get_votable_fields()"
   ]
  },
  {
   "cell_type": "code",
   "execution_count": 42,
   "metadata": {},
   "outputs": [],
   "source": [
    "LQSO = mySimbad.query_criteria(otype='LeQ')"
   ]
  },
  {
   "cell_type": "code",
   "execution_count": 43,
   "metadata": {},
   "outputs": [
    {
     "data": {
      "text/html": [
       "&lt;Table masked=True length=10&gt;\n",
       "<table id=\"table112079539112\" class=\"table-striped table-bordered table-condensed\">\n",
       "<thead><tr><th>MAIN_ID</th><th>RA</th><th>DEC</th><th>RA_PREC</th><th>DEC_PREC</th><th>COO_ERR_MAJA</th><th>COO_ERR_MINA</th><th>COO_ERR_ANGLE</th><th>COO_QUAL</th><th>COO_WAVELENGTH</th><th>COO_BIBCODE</th><th>Z_VALUE</th><th>FLUX_I</th><th>FLUX_V</th></tr></thead>\n",
       "<thead><tr><th></th><th>&quot;h:m:s&quot;</th><th>&quot;d:m:s&quot;</th><th></th><th></th><th>mas</th><th>mas</th><th>deg</th><th></th><th></th><th></th><th></th><th>mag</th><th>mag</th></tr></thead>\n",
       "<thead><tr><th>object</th><th>str13</th><th>str13</th><th>int16</th><th>int16</th><th>float32</th><th>float32</th><th>int16</th><th>str1</th><th>str1</th><th>object</th><th>float64</th><th>float32</th><th>float32</th></tr></thead>\n",
       "<tr><td>[KIO2010] SDSS J1055+4628 B</td><td>10 55 45.45</td><td>+46 28 40.5</td><td>6</td><td>6</td><td>--</td><td>--</td><td>0</td><td>D</td><td></td><td>2010AJ....139.1614K</td><td>--</td><td>20.17</td><td>21.07</td></tr>\n",
       "<tr><td>[PBW92] 1422+231 B</td><td>14 24 38.09</td><td>+22 56 00.6</td><td>6</td><td>6</td><td>--</td><td>--</td><td>0</td><td>D</td><td></td><td>2014MNRAS.440..870T</td><td>3.6200000</td><td>--</td><td>--</td></tr>\n",
       "<tr><td>[MOK2016] SDSS J1254+1857 B</td><td>12 54 40.295</td><td>+18 57 11.44</td><td>7</td><td>7</td><td>--</td><td>--</td><td>0</td><td>C</td><td>O</td><td>2016MNRAS.456.1595M</td><td>1.7170000</td><td>--</td><td>--</td></tr>\n",
       "<tr><td>[WCL99] HE 0230-2130 A1</td><td>02 32 33.10</td><td>-21 17 26.0</td><td>6</td><td>6</td><td>--</td><td>--</td><td>0</td><td>D</td><td></td><td>1999A&amp;A...348L..41W</td><td>--</td><td>--</td><td>--</td></tr>\n",
       "<tr><td>[OIB2008] SDSS J1330+1810 C</td><td>13 30 18.59</td><td>+18 10 33.4</td><td>6</td><td>6</td><td>--</td><td>--</td><td>0</td><td>D</td><td>O</td><td>2008MNRAS.391.1973O</td><td>--</td><td>--</td><td>19.89</td></tr>\n",
       "<tr><td>[VV2006] J074352.7+245743</td><td>07 43 52.6151</td><td>+24 57 43.696</td><td>8</td><td>8</td><td>99.000</td><td>75.000</td><td>0</td><td>B</td><td></td><td>2009A&amp;A...505..385A</td><td>2.1652000</td><td>18.9</td><td>19.33</td></tr>\n",
       "<tr><td>[MOK2016] SDSS J0256+0153 B</td><td>02 56 40.653</td><td>+01 53 30.06</td><td>7</td><td>7</td><td>--</td><td>--</td><td>0</td><td>C</td><td>O</td><td>2016MNRAS.456.1595M</td><td>2.6000000</td><td>20.79</td><td>22.33</td></tr>\n",
       "<tr><td>QSO J1417+5226</td><td>14 17 35.9</td><td>+52 26 46</td><td>5</td><td>5</td><td>--</td><td>--</td><td>0</td><td>D</td><td>O</td><td>2010A&amp;A...518A..10V</td><td>3.4000000</td><td>--</td><td>--</td></tr>\n",
       "<tr><td>[DGS2013] SDSS J2222+2745</td><td>22 22 08.0</td><td>+27 45 34</td><td>5</td><td>5</td><td>--</td><td>--</td><td>0</td><td>E</td><td></td><td>2013ApJ...773..146D</td><td>2.8200000</td><td>--</td><td>--</td></tr>\n",
       "<tr><td>QSO B1001+4127</td><td>10 04 34.9208</td><td>+41 12 42.523</td><td>8</td><td>8</td><td>174.100</td><td>160.300</td><td>90</td><td>C</td><td></td><td>2009A&amp;A...505..385A</td><td>1.7398800</td><td>--</td><td>19.03</td></tr>\n",
       "</table>"
      ],
      "text/plain": [
       "<Table masked=True length=10>\n",
       "          MAIN_ID                 RA           DEC      ...  FLUX_I  FLUX_V\n",
       "                               \"h:m:s\"       \"d:m:s\"    ...   mag     mag  \n",
       "           object               str13         str13     ... float32 float32\n",
       "--------------------------- ------------- ------------- ... ------- -------\n",
       "[KIO2010] SDSS J1055+4628 B   10 55 45.45   +46 28 40.5 ...   20.17   21.07\n",
       "         [PBW92] 1422+231 B   14 24 38.09   +22 56 00.6 ...      --      --\n",
       "[MOK2016] SDSS J1254+1857 B  12 54 40.295  +18 57 11.44 ...      --      --\n",
       "    [WCL99] HE 0230-2130 A1   02 32 33.10   -21 17 26.0 ...      --      --\n",
       "[OIB2008] SDSS J1330+1810 C   13 30 18.59   +18 10 33.4 ...      --   19.89\n",
       "  [VV2006] J074352.7+245743 07 43 52.6151 +24 57 43.696 ...    18.9   19.33\n",
       "[MOK2016] SDSS J0256+0153 B  02 56 40.653  +01 53 30.06 ...   20.79   22.33\n",
       "             QSO J1417+5226    14 17 35.9     +52 26 46 ...      --      --\n",
       "  [DGS2013] SDSS J2222+2745    22 22 08.0     +27 45 34 ...      --      --\n",
       "             QSO B1001+4127 10 04 34.9208 +41 12 42.523 ...      --   19.03"
      ]
     },
     "execution_count": 43,
     "metadata": {},
     "output_type": "execute_result"
    }
   ],
   "source": [
    "LQSO[:10]"
   ]
  },
  {
   "cell_type": "code",
   "execution_count": 56,
   "metadata": {},
   "outputs": [],
   "source": [
    "from astropy.coordinates import Angle"
   ]
  },
  {
   "cell_type": "code",
   "execution_count": 57,
   "metadata": {},
   "outputs": [
    {
     "data": {
      "text/latex": [
       "$1^\\circ02{}^\\prime30.43{}^{\\prime\\prime}$"
      ],
      "text/plain": [
       "<Angle 1.04178611 deg>"
      ]
     },
     "execution_count": 57,
     "metadata": {},
     "output_type": "execute_result"
    }
   ],
   "source": [
    "Angle('1:2:30.43 degrees')"
   ]
  },
  {
   "cell_type": "code",
   "execution_count": 50,
   "metadata": {},
   "outputs": [],
   "source": [
    "LQSO = LQSO.to_pandas()"
   ]
  },
  {
   "cell_type": "markdown",
   "metadata": {},
   "source": [
    "some RA are empty..."
   ]
  },
  {
   "cell_type": "code",
   "execution_count": 72,
   "metadata": {},
   "outputs": [
    {
     "data": {
      "text/html": [
       "<div>\n",
       "<style scoped>\n",
       "    .dataframe tbody tr th:only-of-type {\n",
       "        vertical-align: middle;\n",
       "    }\n",
       "\n",
       "    .dataframe tbody tr th {\n",
       "        vertical-align: top;\n",
       "    }\n",
       "\n",
       "    .dataframe thead th {\n",
       "        text-align: right;\n",
       "    }\n",
       "</style>\n",
       "<table border=\"1\" class=\"dataframe\">\n",
       "  <thead>\n",
       "    <tr style=\"text-align: right;\">\n",
       "      <th></th>\n",
       "      <th>MAIN_ID</th>\n",
       "      <th>RA</th>\n",
       "      <th>DEC</th>\n",
       "      <th>RA_PREC</th>\n",
       "      <th>DEC_PREC</th>\n",
       "      <th>COO_ERR_MAJA</th>\n",
       "      <th>COO_ERR_MINA</th>\n",
       "      <th>COO_ERR_ANGLE</th>\n",
       "      <th>COO_QUAL</th>\n",
       "      <th>COO_WAVELENGTH</th>\n",
       "      <th>COO_BIBCODE</th>\n",
       "      <th>Z_VALUE</th>\n",
       "      <th>FLUX_I</th>\n",
       "      <th>FLUX_V</th>\n",
       "    </tr>\n",
       "  </thead>\n",
       "  <tbody>\n",
       "    <tr>\n",
       "      <th>166</th>\n",
       "      <td>b'[MBS92] 1208+101 B'</td>\n",
       "      <td></td>\n",
       "      <td></td>\n",
       "      <td>0.0</td>\n",
       "      <td>0.0</td>\n",
       "      <td>NaN</td>\n",
       "      <td>NaN</td>\n",
       "      <td>0.0</td>\n",
       "      <td></td>\n",
       "      <td></td>\n",
       "      <td>b''</td>\n",
       "      <td>NaN</td>\n",
       "      <td>NaN</td>\n",
       "      <td>NaN</td>\n",
       "    </tr>\n",
       "    <tr>\n",
       "      <th>169</th>\n",
       "      <td>b'[SRS93] 1009-0252 A'</td>\n",
       "      <td></td>\n",
       "      <td></td>\n",
       "      <td>0.0</td>\n",
       "      <td>0.0</td>\n",
       "      <td>NaN</td>\n",
       "      <td>NaN</td>\n",
       "      <td>0.0</td>\n",
       "      <td></td>\n",
       "      <td></td>\n",
       "      <td>b''</td>\n",
       "      <td>NaN</td>\n",
       "      <td>NaN</td>\n",
       "      <td>NaN</td>\n",
       "    </tr>\n",
       "  </tbody>\n",
       "</table>\n",
       "</div>"
      ],
      "text/plain": [
       "                    MAIN_ID RA DEC  RA_PREC  DEC_PREC  COO_ERR_MAJA  \\\n",
       "166   b'[MBS92] 1208+101 B'             0.0       0.0           NaN   \n",
       "169  b'[SRS93] 1009-0252 A'             0.0       0.0           NaN   \n",
       "\n",
       "     COO_ERR_MINA  COO_ERR_ANGLE COO_QUAL COO_WAVELENGTH COO_BIBCODE  Z_VALUE  \\\n",
       "166           NaN            0.0                                 b''      NaN   \n",
       "169           NaN            0.0                                 b''      NaN   \n",
       "\n",
       "     FLUX_I  FLUX_V  \n",
       "166     NaN     NaN  \n",
       "169     NaN     NaN  "
      ]
     },
     "execution_count": 72,
     "metadata": {},
     "output_type": "execute_result"
    }
   ],
   "source": [
    "LQSO[LQSO.RA.isin(['',' '])]"
   ]
  },
  {
   "cell_type": "code",
   "execution_count": 75,
   "metadata": {},
   "outputs": [],
   "source": [
    "LQSO=LQSO[~LQSO.RA.isin(['',' '])]"
   ]
  },
  {
   "cell_type": "code",
   "execution_count": 79,
   "metadata": {},
   "outputs": [],
   "source": [
    "def setRaDec(Lqso):\n",
    "    Lqso['Ra'] = Lqso.RA.apply(str) + \" hours\"\n",
    "    Lqso['Dec'] = Lqso.DEC.apply(str) + \" degrees\"\n",
    "    Lqso['ra_deg'] = SkyCoord(Lqso.Ra.values,Lqso.Dec.values).ra.deg\n",
    "    Lqso['dec_deg'] = SkyCoord(Lqso.Ra.values,Lqso.Dec.values).dec.deg\n",
    "    Lqso['ra'] = SkyCoord(Lqso.Ra.values,Lqso.Dec.values).ra.rad\n",
    "    Lqso['dec'] = SkyCoord(Lqso.Ra.values,Lqso.Dec.values).dec.rad"
   ]
  },
  {
   "cell_type": "code",
   "execution_count": 80,
   "metadata": {},
   "outputs": [],
   "source": [
    "setRaDec(LQSO)"
   ]
  },
  {
   "cell_type": "code",
   "execution_count": 81,
   "metadata": {},
   "outputs": [
    {
     "data": {
      "text/html": [
       "<div>\n",
       "<style scoped>\n",
       "    .dataframe tbody tr th:only-of-type {\n",
       "        vertical-align: middle;\n",
       "    }\n",
       "\n",
       "    .dataframe tbody tr th {\n",
       "        vertical-align: top;\n",
       "    }\n",
       "\n",
       "    .dataframe thead th {\n",
       "        text-align: right;\n",
       "    }\n",
       "</style>\n",
       "<table border=\"1\" class=\"dataframe\">\n",
       "  <thead>\n",
       "    <tr style=\"text-align: right;\">\n",
       "      <th></th>\n",
       "      <th>MAIN_ID</th>\n",
       "      <th>RA</th>\n",
       "      <th>DEC</th>\n",
       "      <th>RA_PREC</th>\n",
       "      <th>DEC_PREC</th>\n",
       "      <th>COO_ERR_MAJA</th>\n",
       "      <th>COO_ERR_MINA</th>\n",
       "      <th>COO_ERR_ANGLE</th>\n",
       "      <th>COO_QUAL</th>\n",
       "      <th>COO_WAVELENGTH</th>\n",
       "      <th>COO_BIBCODE</th>\n",
       "      <th>Z_VALUE</th>\n",
       "      <th>FLUX_I</th>\n",
       "      <th>FLUX_V</th>\n",
       "      <th>Ra</th>\n",
       "      <th>Dec</th>\n",
       "      <th>ra_deg</th>\n",
       "      <th>dec_deg</th>\n",
       "      <th>ra</th>\n",
       "      <th>dec</th>\n",
       "    </tr>\n",
       "  </thead>\n",
       "  <tbody>\n",
       "    <tr>\n",
       "      <th>0</th>\n",
       "      <td>b'[KIO2010] SDSS J1055+4628 B'</td>\n",
       "      <td>10 55 45.45</td>\n",
       "      <td>+46 28 40.5</td>\n",
       "      <td>6.0</td>\n",
       "      <td>6.0</td>\n",
       "      <td>NaN</td>\n",
       "      <td>NaN</td>\n",
       "      <td>0.0</td>\n",
       "      <td>D</td>\n",
       "      <td></td>\n",
       "      <td>b'2010AJ....139.1614K'</td>\n",
       "      <td>NaN</td>\n",
       "      <td>20.170000</td>\n",
       "      <td>21.070000</td>\n",
       "      <td>10 55 45.45 hours</td>\n",
       "      <td>+46 28 40.5 degrees</td>\n",
       "      <td>163.939375</td>\n",
       "      <td>46.477917</td>\n",
       "      <td>2.861282</td>\n",
       "      <td>0.811193</td>\n",
       "    </tr>\n",
       "    <tr>\n",
       "      <th>1</th>\n",
       "      <td>b'[PBW92] 1422+231 B'</td>\n",
       "      <td>14 24 38.09</td>\n",
       "      <td>+22 56 00.6</td>\n",
       "      <td>6.0</td>\n",
       "      <td>6.0</td>\n",
       "      <td>NaN</td>\n",
       "      <td>NaN</td>\n",
       "      <td>0.0</td>\n",
       "      <td>D</td>\n",
       "      <td></td>\n",
       "      <td>b'2014MNRAS.440..870T'</td>\n",
       "      <td>3.62000</td>\n",
       "      <td>NaN</td>\n",
       "      <td>NaN</td>\n",
       "      <td>14 24 38.09 hours</td>\n",
       "      <td>+22 56 00.6 degrees</td>\n",
       "      <td>216.158708</td>\n",
       "      <td>22.933500</td>\n",
       "      <td>3.772681</td>\n",
       "      <td>0.400265</td>\n",
       "    </tr>\n",
       "    <tr>\n",
       "      <th>2</th>\n",
       "      <td>b'[MOK2016] SDSS J1254+1857 B'</td>\n",
       "      <td>12 54 40.295</td>\n",
       "      <td>+18 57 11.44</td>\n",
       "      <td>7.0</td>\n",
       "      <td>7.0</td>\n",
       "      <td>NaN</td>\n",
       "      <td>NaN</td>\n",
       "      <td>0.0</td>\n",
       "      <td>C</td>\n",
       "      <td>O</td>\n",
       "      <td>b'2016MNRAS.456.1595M'</td>\n",
       "      <td>1.71700</td>\n",
       "      <td>NaN</td>\n",
       "      <td>NaN</td>\n",
       "      <td>12 54 40.295 hours</td>\n",
       "      <td>+18 57 11.44 degrees</td>\n",
       "      <td>193.667896</td>\n",
       "      <td>18.953178</td>\n",
       "      <td>3.380142</td>\n",
       "      <td>0.330795</td>\n",
       "    </tr>\n",
       "    <tr>\n",
       "      <th>3</th>\n",
       "      <td>b'[WCL99] HE 0230-2130 A1'</td>\n",
       "      <td>02 32 33.10</td>\n",
       "      <td>-21 17 26.0</td>\n",
       "      <td>6.0</td>\n",
       "      <td>6.0</td>\n",
       "      <td>NaN</td>\n",
       "      <td>NaN</td>\n",
       "      <td>0.0</td>\n",
       "      <td>D</td>\n",
       "      <td></td>\n",
       "      <td>b'1999A&amp;A...348L..41W'</td>\n",
       "      <td>NaN</td>\n",
       "      <td>NaN</td>\n",
       "      <td>NaN</td>\n",
       "      <td>02 32 33.10 hours</td>\n",
       "      <td>-21 17 26.0 degrees</td>\n",
       "      <td>38.137917</td>\n",
       "      <td>-21.290556</td>\n",
       "      <td>0.665632</td>\n",
       "      <td>-0.371590</td>\n",
       "    </tr>\n",
       "    <tr>\n",
       "      <th>4</th>\n",
       "      <td>b'[OIB2008] SDSS J1330+1810 C'</td>\n",
       "      <td>13 30 18.59</td>\n",
       "      <td>+18 10 33.4</td>\n",
       "      <td>6.0</td>\n",
       "      <td>6.0</td>\n",
       "      <td>NaN</td>\n",
       "      <td>NaN</td>\n",
       "      <td>0.0</td>\n",
       "      <td>D</td>\n",
       "      <td>O</td>\n",
       "      <td>b'2008MNRAS.391.1973O'</td>\n",
       "      <td>NaN</td>\n",
       "      <td>NaN</td>\n",
       "      <td>19.889999</td>\n",
       "      <td>13 30 18.59 hours</td>\n",
       "      <td>+18 10 33.4 degrees</td>\n",
       "      <td>202.577458</td>\n",
       "      <td>18.175944</td>\n",
       "      <td>3.535644</td>\n",
       "      <td>0.317230</td>\n",
       "    </tr>\n",
       "    <tr>\n",
       "      <th>5</th>\n",
       "      <td>b'[VV2006] J074352.7+245743'</td>\n",
       "      <td>07 43 52.6151</td>\n",
       "      <td>+24 57 43.696</td>\n",
       "      <td>8.0</td>\n",
       "      <td>8.0</td>\n",
       "      <td>99.000000</td>\n",
       "      <td>75.000000</td>\n",
       "      <td>0.0</td>\n",
       "      <td>B</td>\n",
       "      <td></td>\n",
       "      <td>b'2009A&amp;A...505..385A'</td>\n",
       "      <td>2.16520</td>\n",
       "      <td>18.900000</td>\n",
       "      <td>19.330000</td>\n",
       "      <td>07 43 52.6151 hours</td>\n",
       "      <td>+24 57 43.696 degrees</td>\n",
       "      <td>115.969230</td>\n",
       "      <td>24.962138</td>\n",
       "      <td>2.024045</td>\n",
       "      <td>0.435671</td>\n",
       "    </tr>\n",
       "    <tr>\n",
       "      <th>6</th>\n",
       "      <td>b'[MOK2016] SDSS J0256+0153 B'</td>\n",
       "      <td>02 56 40.653</td>\n",
       "      <td>+01 53 30.06</td>\n",
       "      <td>7.0</td>\n",
       "      <td>7.0</td>\n",
       "      <td>NaN</td>\n",
       "      <td>NaN</td>\n",
       "      <td>0.0</td>\n",
       "      <td>C</td>\n",
       "      <td>O</td>\n",
       "      <td>b'2016MNRAS.456.1595M'</td>\n",
       "      <td>2.60000</td>\n",
       "      <td>20.790001</td>\n",
       "      <td>22.330000</td>\n",
       "      <td>02 56 40.653 hours</td>\n",
       "      <td>+01 53 30.06 degrees</td>\n",
       "      <td>44.169387</td>\n",
       "      <td>1.891683</td>\n",
       "      <td>0.770901</td>\n",
       "      <td>0.033016</td>\n",
       "    </tr>\n",
       "    <tr>\n",
       "      <th>7</th>\n",
       "      <td>b'QSO J1417+5226'</td>\n",
       "      <td>14 17 35.9</td>\n",
       "      <td>+52 26 46</td>\n",
       "      <td>5.0</td>\n",
       "      <td>5.0</td>\n",
       "      <td>NaN</td>\n",
       "      <td>NaN</td>\n",
       "      <td>0.0</td>\n",
       "      <td>D</td>\n",
       "      <td>O</td>\n",
       "      <td>b'2010A&amp;A...518A..10V'</td>\n",
       "      <td>3.40000</td>\n",
       "      <td>NaN</td>\n",
       "      <td>NaN</td>\n",
       "      <td>14 17 35.9 hours</td>\n",
       "      <td>+52 26 46 degrees</td>\n",
       "      <td>214.399583</td>\n",
       "      <td>52.446111</td>\n",
       "      <td>3.741979</td>\n",
       "      <td>0.915357</td>\n",
       "    </tr>\n",
       "    <tr>\n",
       "      <th>8</th>\n",
       "      <td>b'[DGS2013] SDSS J2222+2745'</td>\n",
       "      <td>22 22 08.0</td>\n",
       "      <td>+27 45 34</td>\n",
       "      <td>5.0</td>\n",
       "      <td>5.0</td>\n",
       "      <td>NaN</td>\n",
       "      <td>NaN</td>\n",
       "      <td>0.0</td>\n",
       "      <td>E</td>\n",
       "      <td></td>\n",
       "      <td>b'2013ApJ...773..146D'</td>\n",
       "      <td>2.82000</td>\n",
       "      <td>NaN</td>\n",
       "      <td>NaN</td>\n",
       "      <td>22 22 08.0 hours</td>\n",
       "      <td>+27 45 34 degrees</td>\n",
       "      <td>335.533333</td>\n",
       "      <td>27.759444</td>\n",
       "      <td>5.856161</td>\n",
       "      <td>0.484494</td>\n",
       "    </tr>\n",
       "    <tr>\n",
       "      <th>9</th>\n",
       "      <td>b'QSO B1001+4127'</td>\n",
       "      <td>10 04 34.9208</td>\n",
       "      <td>+41 12 42.523</td>\n",
       "      <td>8.0</td>\n",
       "      <td>8.0</td>\n",
       "      <td>174.100006</td>\n",
       "      <td>160.300003</td>\n",
       "      <td>90.0</td>\n",
       "      <td>C</td>\n",
       "      <td></td>\n",
       "      <td>b'2009A&amp;A...505..385A'</td>\n",
       "      <td>1.73988</td>\n",
       "      <td>NaN</td>\n",
       "      <td>19.030001</td>\n",
       "      <td>10 04 34.9208 hours</td>\n",
       "      <td>+41 12 42.523 degrees</td>\n",
       "      <td>151.145503</td>\n",
       "      <td>41.211812</td>\n",
       "      <td>2.637987</td>\n",
       "      <td>0.719282</td>\n",
       "    </tr>\n",
       "  </tbody>\n",
       "</table>\n",
       "</div>"
      ],
      "text/plain": [
       "                          MAIN_ID             RA            DEC  RA_PREC  \\\n",
       "0  b'[KIO2010] SDSS J1055+4628 B'    10 55 45.45    +46 28 40.5      6.0   \n",
       "1           b'[PBW92] 1422+231 B'    14 24 38.09    +22 56 00.6      6.0   \n",
       "2  b'[MOK2016] SDSS J1254+1857 B'   12 54 40.295   +18 57 11.44      7.0   \n",
       "3      b'[WCL99] HE 0230-2130 A1'    02 32 33.10    -21 17 26.0      6.0   \n",
       "4  b'[OIB2008] SDSS J1330+1810 C'    13 30 18.59    +18 10 33.4      6.0   \n",
       "5    b'[VV2006] J074352.7+245743'  07 43 52.6151  +24 57 43.696      8.0   \n",
       "6  b'[MOK2016] SDSS J0256+0153 B'   02 56 40.653   +01 53 30.06      7.0   \n",
       "7               b'QSO J1417+5226'     14 17 35.9      +52 26 46      5.0   \n",
       "8    b'[DGS2013] SDSS J2222+2745'     22 22 08.0      +27 45 34      5.0   \n",
       "9               b'QSO B1001+4127'  10 04 34.9208  +41 12 42.523      8.0   \n",
       "\n",
       "   DEC_PREC  COO_ERR_MAJA  COO_ERR_MINA  COO_ERR_ANGLE COO_QUAL  \\\n",
       "0       6.0           NaN           NaN            0.0        D   \n",
       "1       6.0           NaN           NaN            0.0        D   \n",
       "2       7.0           NaN           NaN            0.0        C   \n",
       "3       6.0           NaN           NaN            0.0        D   \n",
       "4       6.0           NaN           NaN            0.0        D   \n",
       "5       8.0     99.000000     75.000000            0.0        B   \n",
       "6       7.0           NaN           NaN            0.0        C   \n",
       "7       5.0           NaN           NaN            0.0        D   \n",
       "8       5.0           NaN           NaN            0.0        E   \n",
       "9       8.0    174.100006    160.300003           90.0        C   \n",
       "\n",
       "  COO_WAVELENGTH             COO_BIBCODE  Z_VALUE     FLUX_I     FLUX_V  \\\n",
       "0                 b'2010AJ....139.1614K'      NaN  20.170000  21.070000   \n",
       "1                 b'2014MNRAS.440..870T'  3.62000        NaN        NaN   \n",
       "2              O  b'2016MNRAS.456.1595M'  1.71700        NaN        NaN   \n",
       "3                 b'1999A&A...348L..41W'      NaN        NaN        NaN   \n",
       "4              O  b'2008MNRAS.391.1973O'      NaN        NaN  19.889999   \n",
       "5                 b'2009A&A...505..385A'  2.16520  18.900000  19.330000   \n",
       "6              O  b'2016MNRAS.456.1595M'  2.60000  20.790001  22.330000   \n",
       "7              O  b'2010A&A...518A..10V'  3.40000        NaN        NaN   \n",
       "8                 b'2013ApJ...773..146D'  2.82000        NaN        NaN   \n",
       "9                 b'2009A&A...505..385A'  1.73988        NaN  19.030001   \n",
       "\n",
       "                    Ra                    Dec      ra_deg    dec_deg  \\\n",
       "0    10 55 45.45 hours    +46 28 40.5 degrees  163.939375  46.477917   \n",
       "1    14 24 38.09 hours    +22 56 00.6 degrees  216.158708  22.933500   \n",
       "2   12 54 40.295 hours   +18 57 11.44 degrees  193.667896  18.953178   \n",
       "3    02 32 33.10 hours    -21 17 26.0 degrees   38.137917 -21.290556   \n",
       "4    13 30 18.59 hours    +18 10 33.4 degrees  202.577458  18.175944   \n",
       "5  07 43 52.6151 hours  +24 57 43.696 degrees  115.969230  24.962138   \n",
       "6   02 56 40.653 hours   +01 53 30.06 degrees   44.169387   1.891683   \n",
       "7     14 17 35.9 hours      +52 26 46 degrees  214.399583  52.446111   \n",
       "8     22 22 08.0 hours      +27 45 34 degrees  335.533333  27.759444   \n",
       "9  10 04 34.9208 hours  +41 12 42.523 degrees  151.145503  41.211812   \n",
       "\n",
       "         ra       dec  \n",
       "0  2.861282  0.811193  \n",
       "1  3.772681  0.400265  \n",
       "2  3.380142  0.330795  \n",
       "3  0.665632 -0.371590  \n",
       "4  3.535644  0.317230  \n",
       "5  2.024045  0.435671  \n",
       "6  0.770901  0.033016  \n",
       "7  3.741979  0.915357  \n",
       "8  5.856161  0.484494  \n",
       "9  2.637987  0.719282  "
      ]
     },
     "execution_count": 81,
     "metadata": {},
     "output_type": "execute_result"
    }
   ],
   "source": [
    "LQSO[:10]"
   ]
  },
  {
   "cell_type": "code",
   "execution_count": 83,
   "metadata": {},
   "outputs": [
    {
     "data": {
      "image/png": "[encoded data removed]",
      "text/plain": [
       "<matplotlib.figure.Figure at 0x1a1c1ba048>"
      ]
     },
     "metadata": {},
     "output_type": "display_data"
    }
   ],
   "source": [
    "plt.subplot(111,projection=\"mollweide\")\n",
    "plt.scatter(LQSO.ra-np.pi,LQSO.dec)\n",
    "plt.grid()"
   ]
  },
  {
   "cell_type": "code",
   "execution_count": 27,
   "metadata": {},
   "outputs": [],
   "source": [
    "mySimbad.ROW_LIMIT = 10000"
   ]
  },
  {
   "cell_type": "code",
   "execution_count": 28,
   "metadata": {},
   "outputs": [],
   "source": [
    "CLQSO = mySimbad.query_criteria(otype='Le?')"
   ]
  },
  {
   "cell_type": "code",
   "execution_count": 29,
   "metadata": {},
   "outputs": [
    {
     "data": {
      "text/html": [
       "&lt;Table masked=True length=246&gt;\n",
       "<table id=\"table112070096880\" class=\"table-striped table-bordered table-condensed\">\n",
       "<thead><tr><th>MAIN_ID</th><th>RA</th><th>DEC</th><th>RA_PREC</th><th>DEC_PREC</th><th>COO_ERR_MAJA</th><th>COO_ERR_MINA</th><th>COO_ERR_ANGLE</th><th>COO_QUAL</th><th>COO_WAVELENGTH</th><th>COO_BIBCODE</th><th>Z_VALUE</th><th>FLUX_I</th><th>FLUX_V</th></tr></thead>\n",
       "<thead><tr><th></th><th>&quot;h:m:s&quot;</th><th>&quot;d:m:s&quot;</th><th></th><th></th><th>mas</th><th>mas</th><th>deg</th><th></th><th></th><th></th><th></th><th>mag</th><th>mag</th></tr></thead>\n",
       "<thead><tr><th>object</th><th>str13</th><th>str13</th><th>int16</th><th>int16</th><th>float32</th><th>float32</th><th>int16</th><th>str1</th><th>str1</th><th>object</th><th>float64</th><th>float32</th><th>float32</th></tr></thead>\n",
       "<tr><td>SDSS J152747.69+031432.1</td><td>15 27 47.690</td><td>+03 14 32.11</td><td>7</td><td>7</td><td>48.000</td><td>41.000</td><td>90</td><td>C</td><td>O</td><td>2009yCat.2294....0A</td><td>0.2223300</td><td>--</td><td>--</td></tr>\n",
       "<tr><td>[RGO99] HST J16302+8230</td><td>16 30 12.9</td><td>+82 29 59</td><td>5</td><td>5</td><td>--</td><td>--</td><td>0</td><td>D</td><td></td><td>1999AJ....117.2010R</td><td>--</td><td>--</td><td>--</td></tr>\n",
       "<tr><td>[HGO2008] SDSS J1040+3405</td><td>10 40 19.72</td><td>+34 05 19.8</td><td>6</td><td>6</td><td>--</td><td>--</td><td>0</td><td>D</td><td></td><td>2008AJ....135..664H</td><td>0.4450000</td><td>--</td><td>--</td></tr>\n",
       "<tr><td>SOGRAS J0850+0015</td><td>08 50 23.0</td><td>+00 15 36</td><td>5</td><td>5</td><td>--</td><td>--</td><td>0</td><td>D</td><td>O</td><td>2013MNRAS.432...73F</td><td>0.2020000</td><td>--</td><td>--</td></tr>\n",
       "<tr><td>SDSS J145237.94+091835.3</td><td>14 52 37.949</td><td>+09 18 35.36</td><td>7</td><td>7</td><td>22.000</td><td>14.000</td><td>90</td><td>C</td><td>O</td><td>2012ApJS..203...21A</td><td>0.0547300</td><td>--</td><td>--</td></tr>\n",
       "<tr><td>SDSS J232943.08+152219.9</td><td>23 29 43.086</td><td>+15 22 19.87</td><td>7</td><td>7</td><td>13.000</td><td>11.000</td><td>90</td><td>C</td><td>O</td><td>2012ApJS..203...21A</td><td>0.1028100</td><td>--</td><td>--</td></tr>\n",
       "<tr><td>[LKS2009]SDSS J2124-0047</td><td>21 24 29.83</td><td>-00 47 27.1</td><td>6</td><td>6</td><td>--</td><td>--</td><td>0</td><td>D</td><td></td><td>2009ApJ...698..428L</td><td>--</td><td>--</td><td>--</td></tr>\n",
       "<tr><td>[GMB2011] 2864</td><td>01 37 29.0</td><td>-00 09 56</td><td>5</td><td>5</td><td>--</td><td>--</td><td>0</td><td>D</td><td>O</td><td>2013MNRAS.432...73F</td><td>0.3360000</td><td>--</td><td>--</td></tr>\n",
       "<tr><td>SOGRAS J0928+0000</td><td>09 28 45.0</td><td>+00 00 55</td><td>5</td><td>5</td><td>--</td><td>--</td><td>0</td><td>D</td><td>O</td><td>2013MNRAS.432...73F</td><td>0.3070000</td><td>--</td><td>--</td></tr>\n",
       "<tr><td>...</td><td>...</td><td>...</td><td>...</td><td>...</td><td>...</td><td>...</td><td>...</td><td>...</td><td>...</td><td>...</td><td>...</td><td>...</td><td>...</td></tr>\n",
       "<tr><td>[GLF2012] SDP 396 lens</td><td>09 03 46.1</td><td>+01 34 28</td><td>5</td><td>5</td><td>--</td><td>--</td><td>0</td><td>D</td><td>F</td><td>2012ApJ...749...65G</td><td>--</td><td>--</td><td>--</td></tr>\n",
       "<tr><td>[KKD2009] 3</td><td>09 21 13.7</td><td>+30 13 48</td><td>5</td><td>5</td><td>--</td><td>--</td><td>0</td><td>E</td><td></td><td>2009ApJ...702..980K</td><td>--</td><td>--</td><td>--</td></tr>\n",
       "<tr><td>[LKS2009]SDSS J2200-0107</td><td>22 00 00.02</td><td>-01 07 48.0</td><td>6</td><td>6</td><td>--</td><td>--</td><td>0</td><td>D</td><td></td><td>2009ApJ...698..428L</td><td>--</td><td>--</td><td>--</td></tr>\n",
       "<tr><td>SDSS J091051.24+020118.8</td><td>09 10 51.248</td><td>+02 01 18.80</td><td>7</td><td>7</td><td>9.000</td><td>9.000</td><td>90</td><td>C</td><td>O</td><td>2012ApJS..203...21A</td><td>0.0545200</td><td>--</td><td>--</td></tr>\n",
       "<tr><td>ACO  2224</td><td>16 43 27.12</td><td>+13 22 27.1</td><td>6</td><td>6</td><td>--</td><td>--</td><td>0</td><td>D</td><td></td><td>2003AJ....125.2064G</td><td>0.1504000</td><td>--</td><td>--</td></tr>\n",
       "<tr><td>ACO  1127</td><td>10 54 17.0</td><td>+14 39 04</td><td>5</td><td>5</td><td>--</td><td>--</td><td>0</td><td>D</td><td>O</td><td>2013MNRAS.432...73F</td><td>0.3280000</td><td>--</td><td>--</td></tr>\n",
       "<tr><td>SOGRAS J0008-0038</td><td>00 08 21.0</td><td>-00 38 45</td><td>5</td><td>5</td><td>--</td><td>--</td><td>0</td><td>D</td><td>O</td><td>2013MNRAS.432...73F</td><td>0.5230000</td><td>--</td><td>--</td></tr>\n",
       "<tr><td>H-ATLAS J090957.6-003619</td><td>09 09 57.6</td><td>-00 36 19</td><td>5</td><td>5</td><td>--</td><td>--</td><td>0</td><td>D</td><td></td><td>2012ApJ...749...65G</td><td>1.9100000</td><td>--</td><td>--</td></tr>\n",
       "<tr><td>[GLF2012] SDP 515 lens</td><td>09 08 18.9</td><td>+02 33 30</td><td>5</td><td>5</td><td>--</td><td>--</td><td>0</td><td>D</td><td>F</td><td>2012ApJ...749...65G</td><td>--</td><td>--</td><td>--</td></tr>\n",
       "<tr><td>[GLF2012] SDP 383 lens</td><td>09 00 32.7</td><td>+00 43 16</td><td>5</td><td>5</td><td>--</td><td>--</td><td>0</td><td>D</td><td>F</td><td>2012ApJ...749...65G</td><td>0.5200000</td><td>--</td><td>--</td></tr>\n",
       "</table>"
      ],
      "text/plain": [
       "<Table masked=True length=246>\n",
       "         MAIN_ID               RA          DEC      ...  FLUX_I  FLUX_V\n",
       "                            \"h:m:s\"      \"d:m:s\"    ...   mag     mag  \n",
       "          object             str13        str13     ... float32 float32\n",
       "------------------------- ------------ ------------ ... ------- -------\n",
       " SDSS J152747.69+031432.1 15 27 47.690 +03 14 32.11 ...      --      --\n",
       "  [RGO99] HST J16302+8230   16 30 12.9    +82 29 59 ...      --      --\n",
       "[HGO2008] SDSS J1040+3405  10 40 19.72  +34 05 19.8 ...      --      --\n",
       "        SOGRAS J0850+0015   08 50 23.0    +00 15 36 ...      --      --\n",
       " SDSS J145237.94+091835.3 14 52 37.949 +09 18 35.36 ...      --      --\n",
       " SDSS J232943.08+152219.9 23 29 43.086 +15 22 19.87 ...      --      --\n",
       " [LKS2009]SDSS J2124-0047  21 24 29.83  -00 47 27.1 ...      --      --\n",
       "           [GMB2011] 2864   01 37 29.0    -00 09 56 ...      --      --\n",
       "        SOGRAS J0928+0000   09 28 45.0    +00 00 55 ...      --      --\n",
       "                      ...          ...          ... ...     ...     ...\n",
       "   [GLF2012] SDP 396 lens   09 03 46.1    +01 34 28 ...      --      --\n",
       "              [KKD2009] 3   09 21 13.7    +30 13 48 ...      --      --\n",
       " [LKS2009]SDSS J2200-0107  22 00 00.02  -01 07 48.0 ...      --      --\n",
       " SDSS J091051.24+020118.8 09 10 51.248 +02 01 18.80 ...      --      --\n",
       "                ACO  2224  16 43 27.12  +13 22 27.1 ...      --      --\n",
       "                ACO  1127   10 54 17.0    +14 39 04 ...      --      --\n",
       "        SOGRAS J0008-0038   00 08 21.0    -00 38 45 ...      --      --\n",
       " H-ATLAS J090957.6-003619   09 09 57.6    -00 36 19 ...      --      --\n",
       "   [GLF2012] SDP 515 lens   09 08 18.9    +02 33 30 ...      --      --\n",
       "   [GLF2012] SDP 383 lens   09 00 32.7    +00 43 16 ...      --      --"
      ]
     },
     "execution_count": 29,
     "metadata": {},
     "output_type": "execute_result"
    }
   ],
   "source": [
    "CLQSO"
   ]
  },
  {
   "cell_type": "code",
   "execution_count": null,
   "metadata": {},
   "outputs": [],
   "source": []
  }
 ],
 "metadata": {
  "kernelspec": {
   "display_name": "Python 3",
   "language": "python",
   "name": "python3"
  },
  "language_info": {
   "codemirror_mode": {
    "name": "ipython",
    "version": 3
   },
   "file_extension": ".py",
   "mimetype": "text/x-python",
   "name": "python",
   "nbconvert_exporter": "python",
   "pygments_lexer": "ipython3",
   "version": "3.6.4"
  }
 },
 "nbformat": 4,
 "nbformat_minor": 2
}
