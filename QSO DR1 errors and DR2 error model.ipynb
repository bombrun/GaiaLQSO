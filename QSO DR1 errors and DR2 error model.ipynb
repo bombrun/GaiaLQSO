{
 "cells": [
  {
   "cell_type": "code",
   "execution_count": 1,
   "metadata": {
    "collapsed": true
   },
   "outputs": [],
   "source": [
    "import numpy as np"
   ]
  },
  {
   "cell_type": "code",
   "execution_count": 2,
   "metadata": {
    "collapsed": true
   },
   "outputs": [],
   "source": [
    "import numpy as np\n",
    "import matplotlib as mp\n",
    "import matplotlib.pyplot as plt\n",
    "import pandas as pd\n",
    "import healpy as hp\n",
    "%matplotlib inline\n",
    "mp.rcParams['figure.figsize'] = (12, 8)"
   ]
  },
  {
   "cell_type": "markdown",
   "metadata": {},
   "source": [
    "# DR1 QSO data\n",
    "VLBI sources"
   ]
  },
  {
   "cell_type": "code",
   "execution_count": 3,
   "metadata": {
    "collapsed": false
   },
   "outputs": [
    {
     "name": "stdout",
     "output_type": "stream",
     "text": [
      "Created TAP+ (v1.0.1) - Connection:\n",
      "\tHost: gea.esac.esa.int\n",
      "\tUse HTTPS: False\n",
      "\tPort: 80\n",
      "\tSSL Port: 443\n"
     ]
    }
   ],
   "source": [
    "from astroquery.gaia import gaia"
   ]
  },
  {
   "cell_type": "code",
   "execution_count": 4,
   "metadata": {
    "collapsed": false
   },
   "outputs": [
    {
     "name": "stdout",
     "output_type": "stream",
     "text": [
      "Retrieving tables...\n",
      "Parsing tables...\n",
      "Done.\n"
     ]
    }
   ],
   "source": [
    "tables = gaia.load_tables()"
   ]
  },
  {
   "cell_type": "code",
   "execution_count": 5,
   "metadata": {
    "collapsed": true
   },
   "outputs": [],
   "source": [
    "t = tables[0]"
   ]
  },
  {
   "cell_type": "code",
   "execution_count": 6,
   "metadata": {
    "collapsed": false,
    "scrolled": true
   },
   "outputs": [
    {
     "data": {
      "text/plain": [
       "'public.dual'"
      ]
     },
     "execution_count": 6,
     "metadata": {},
     "output_type": "execute_result"
    }
   ],
   "source": [
    "t.get_name()"
   ]
  },
  {
   "cell_type": "code",
   "execution_count": 7,
   "metadata": {
    "collapsed": false
   },
   "outputs": [
    {
     "name": "stdout",
     "output_type": "stream",
     "text": [
      "public.dual\n",
      "public.igsl_source\n",
      "public.tycho2\n",
      "public.hipparcos\n",
      "public.hipparcos_newreduction\n",
      "public.hubble_sc\n",
      "public.igsl_source_catalog_ids\n",
      "tap_schema.tables\n",
      "tap_schema.columns\n",
      "tap_schema.keys\n",
      "tap_schema.schemas\n",
      "tap_schema.key_columns\n",
      "gaiadr1.phot_variable_time_series_gfov\n",
      "gaiadr1.ppmxl_neighbourhood\n",
      "gaiadr1.gsc23_neighbourhood\n",
      "gaiadr1.ppmxl_best_neighbour\n",
      "gaiadr1.sdss_dr9_neighbourhood\n",
      "gaiadr1.rrlyrae\n",
      "gaiadr1.allwise_neighbourhood\n",
      "gaiadr1.gsc23_original_valid\n",
      "gaiadr1.tmass_original_valid\n",
      "gaiadr1.allwise_best_neighbour\n",
      "gaiadr1.cepheid\n",
      "gaiadr1.urat1_neighbourhood\n",
      "gaiadr1.ppmxl_original_valid\n",
      "gaiadr1.tmass_neighbourhood\n",
      "gaiadr1.ucac4_best_neighbour\n",
      "gaiadr1.ucac4_neighbourhood\n",
      "gaiadr1.aux_qso_icrf2_match\n",
      "gaiadr1.phot_variable_time_series_gfov_statistical_parameters\n",
      "gaiadr1.sdssdr9_original_valid\n",
      "gaiadr1.urat1_best_neighbour\n",
      "gaiadr1.variable_summary\n",
      "gaiadr1.ucac4_original_valid\n",
      "gaiadr1.tmass_best_neighbour\n",
      "gaiadr1.gsc23_best_neighbour\n",
      "gaiadr1.gaia_source\n",
      "gaiadr1.ext_phot_zero_point\n",
      "gaiadr1.sdss_dr9_best_neighbour\n",
      "gaiadr1.tgas_source\n",
      "gaiadr1.urat1_original_valid\n",
      "gaiadr1.allwise_original_valid\n"
     ]
    }
   ],
   "source": [
    "for t in tables :\n",
    "    print(t.get_name())"
   ]
  },
  {
   "cell_type": "code",
   "execution_count": 8,
   "metadata": {
    "collapsed": false
   },
   "outputs": [
    {
     "name": "stdout",
     "output_type": "stream",
     "text": [
      "Launched query: 'SELECT TOP 10000 * FROM gaiadr1.aux_qso_icrf2_match'\n",
      "Retrieving sync. results...\n"
     ]
    },
    {
     "name": "stderr",
     "output_type": "stream",
     "text": [
      "WARNING: W27: None:3:0: W27: COOSYS deprecated in VOTable 1.2 [astropy.io.votable.tree]\n",
      "WARNING: W35: None:5:0: W35: 'value' attribute required for INFO elements [astropy.io.votable.tree]\n",
      "WARNING: W35: None:6:0: W35: 'value' attribute required for INFO elements [astropy.io.votable.tree]\n",
      "WARNING: W35: None:7:0: W35: 'value' attribute required for INFO elements [astropy.io.votable.tree]\n",
      "WARNING: W35: None:8:0: W35: 'value' attribute required for INFO elements [astropy.io.votable.tree]\n",
      "WARNING: W35: None:9:0: W35: 'value' attribute required for INFO elements [astropy.io.votable.tree]\n",
      "WARNING: W35: None:10:0: W35: 'value' attribute required for INFO elements [astropy.io.votable.tree]\n",
      "WARNING: W06: None:12:0: W06: Invalid UCD 'meta.id;meta.version': Primary word 'meta.version' is not valid as a secondary word [astropy.io.votable.tree]\n",
      "WARNING: W50: None:65:0: W50: Invalid unit string 'Time[Julian Years]' [astropy.io.votable.tree]\n",
      "WARNING: W06: None:69:0: W06: Invalid UCD 'meta.main;pos.eq.ra': Secondary word 'meta.main' is not valid as a primary word [astropy.io.votable.tree]\n",
      "WARNING: W50: None:69:0: W50: Invalid unit string 'Angle[deg]' [astropy.io.votable.tree]\n",
      "WARNING: W06: None:73:0: W06: Invalid UCD 'pos.eq.ra;stat.error': Primary word 'stat.error' is not valid as a secondary word [astropy.io.votable.tree]\n",
      "WARNING: W50: None:73:0: W50: Invalid unit string 'Angle[mas]' [astropy.io.votable.tree]\n",
      "WARNING: W06: None:77:0: W06: Invalid UCD 'meta.main;pos.eq.dec': Secondary word 'meta.main' is not valid as a primary word [astropy.io.votable.tree]\n",
      "WARNING: W50: None:77:0: W50: Invalid unit string 'Angle[deg]' [astropy.io.votable.tree]\n",
      "WARNING: W06: None:81:0: W06: Invalid UCD 'pos.eq.dec;stat.error': Primary word 'stat.error' is not valid as a secondary word [astropy.io.votable.tree]\n",
      "WARNING: W50: None:81:0: W50: Invalid unit string 'Angle[mas]' [astropy.io.votable.tree]\n",
      "WARNING: W50: None:85:0: W50: Invalid unit string 'Dimensionless[see description]' [astropy.io.votable.tree]\n",
      "WARNING: W06: None:89:0: W06: Invalid UCD 'em.opt;phot.mag;stat.mean': Secondary word 'em.opt' is not valid as a primary word [astropy.io.votable.tree]\n",
      "WARNING: W50: None:89:0: W50: Invalid unit string 'Magnitude[mag]' [astropy.io.votable.tree]\n"
     ]
    },
    {
     "name": "stdout",
     "output_type": "stream",
     "text": [
      "Query finished.\n"
     ]
    }
   ],
   "source": [
    "r = gaia.launch_job(\"SELECT TOP 10000 * FROM gaiadr1.aux_qso_icrf2_match\").get_data()"
   ]
  },
  {
   "cell_type": "code",
   "execution_count": 9,
   "metadata": {
    "collapsed": false
   },
   "outputs": [
    {
     "data": {
      "text/html": [
       "&lt;Table masked=True length=10&gt;\n",
       "<table id=\"table4768974384\" class=\"table-striped table-bordered table-condensed\">\n",
       "<thead><tr><th>solution_id</th><th>source_id</th><th>ref_epoch</th><th>ra</th><th>ra_error</th><th>dec</th><th>dec_error</th><th>ra_dec_corr</th><th>phot_g_mean_mag</th><th>astrometric_priors_used</th><th>icrf2_match</th><th>rot_flag</th></tr></thead>\n",
       "<thead><tr><th></th><th></th><th>Time[Julian Years]</th><th>Angle[deg]</th><th>Angle[mas]</th><th>Angle[deg]</th><th>Angle[mas]</th><th>Dimensionless[see description]</th><th>Magnitude[mag]</th><th></th><th></th><th></th></tr></thead>\n",
       "<thead><tr><th>int64</th><th>int64</th><th>float64</th><th>float64</th><th>float64</th><th>float64</th><th>float64</th><th>float32</th><th>float64</th><th>int32</th><th>object</th><th>int32</th></tr></thead>\n",
       "<tr><td>2887471466167664679</td><td>2314315845817748992</td><td>2015.0</td><td>0.084997834509302123</td><td>0.32454496110414766</td><td>-32.350342922055113</td><td>0.23511271706447415</td><td>-0.070142001</td><td>17.960360811574983</td><td>6</td><td>J000020.3-322101</td><td>0</td></tr>\n",
       "<tr><td>2887471466167664679</td><td>2415835438037302144</td><td>2015.0</td><td>0.27220319345271554</td><td>0.48447433249942484</td><td>-15.851965471662275</td><td>0.289038978259334</td><td>0.29972801</td><td>18.211357621205455</td><td>6</td><td>J000105.3-155107</td><td>0</td></tr>\n",
       "<tr><td>2887471466167664679</td><td>2340552083046197504</td><td>2015.0</td><td>0.54992254701623544</td><td>1.393162337531358</td><td>-21.886073473713015</td><td>0.7727802006932547</td><td>0.46471101</td><td>19.075756315822794</td><td>6</td><td>J000211.9-215309</td><td>0</td></tr>\n",
       "<tr><td>2887471466167664679</td><td>2365814049884978048</td><td>2015.0</td><td>0.81645557565033022</td><td>0.47688597298409802</td><td>-19.697333468550926</td><td>0.27210861258362623</td><td>0.389137</td><td>18.972714358778635</td><td>6</td><td>J000315.9-194150</td><td>0</td></tr>\n",
       "<tr><td>2887471466167664679</td><td>2365855384650325376</td><td>2015.0</td><td>0.82781223795806547</td><td>0.59122181302439014</td><td>-19.456210016180261</td><td>0.35932905596162351</td><td>0.15206601</td><td>19.246310278493571</td><td>6</td><td>J000318.6-192722</td><td>0</td></tr>\n",
       "<tr><td>2887471466167664679</td><td>2421598528234887680</td><td>2015.0</td><td>1.0204793193290835</td><td>0.39511285389689393</td><td>-11.816218502798884</td><td>0.30157778045863964</td><td>0.81981897</td><td>19.235530354602556</td><td>6</td><td>J000404.9-114858</td><td>0</td></tr>\n",
       "<tr><td>2887471466167664679</td><td>4978016560925910400</td><td>2015.0</td><td>1.1485647503252263</td><td>0.55844130817853166</td><td>-47.605445547523409</td><td>0.78568119733353048</td><td>-0.435837</td><td>19.853552601975245</td><td>6</td><td>J000435.6-473619</td><td>3</td></tr>\n",
       "<tr><td>2887471466167664679</td><td>420305499589122944</td><td>2015.0</td><td>1.268180970761839</td><td>0.51854447058139552</td><td>54.473590020485418</td><td>0.82875538402414695</td><td>-0.201741</td><td>18.581214684739777</td><td>6</td><td>J000504.3+542824</td><td>0</td></tr>\n",
       "<tr><td>2887471466167664679</td><td>2414919854088816640</td><td>2015.0</td><td>1.3247241763523196</td><td>0.33900649742858324</td><td>-16.80129944097559</td><td>0.1883598934998745</td><td>0.42594501</td><td>17.721514314114138</td><td>6</td><td>J000517.9-164804</td><td>0</td></tr>\n",
       "<tr><td>2887471466167664679</td><td>2742071533114644864</td><td>2015.0</td><td>1.3342310789807397</td><td>0.24160907141489307</td><td>5.4030006619878419</td><td>0.15658353664569949</td><td>0.76433998</td><td>16.069778956582319</td><td>6</td><td>J000520.2+052410</td><td>0</td></tr>\n",
       "</table>"
      ],
      "text/plain": [
       "<Table masked=True length=10>\n",
       "    solution_id          source_id      ...   icrf2_match    rot_flag\n",
       "                                        ...                          \n",
       "       int64               int64        ...      object       int32  \n",
       "------------------- ------------------- ... ---------------- --------\n",
       "2887471466167664679 2314315845817748992 ... J000020.3-322101        0\n",
       "2887471466167664679 2415835438037302144 ... J000105.3-155107        0\n",
       "2887471466167664679 2340552083046197504 ... J000211.9-215309        0\n",
       "2887471466167664679 2365814049884978048 ... J000315.9-194150        0\n",
       "2887471466167664679 2365855384650325376 ... J000318.6-192722        0\n",
       "2887471466167664679 2421598528234887680 ... J000404.9-114858        0\n",
       "2887471466167664679 4978016560925910400 ... J000435.6-473619        3\n",
       "2887471466167664679  420305499589122944 ... J000504.3+542824        0\n",
       "2887471466167664679 2414919854088816640 ... J000517.9-164804        0\n",
       "2887471466167664679 2742071533114644864 ... J000520.2+052410        0"
      ]
     },
     "execution_count": 9,
     "metadata": {},
     "output_type": "execute_result"
    }
   ],
   "source": [
    "r[:10]"
   ]
  },
  {
   "cell_type": "code",
   "execution_count": 10,
   "metadata": {
    "collapsed": true
   },
   "outputs": [],
   "source": [
    "columns = ['ra','ra_error','dec','dec_error','ra_dec_corr','phot_g_mean_mag']"
   ]
  },
  {
   "cell_type": "markdown",
   "metadata": {},
   "source": [
    "I like pandas"
   ]
  },
  {
   "cell_type": "code",
   "execution_count": 11,
   "metadata": {
    "collapsed": false
   },
   "outputs": [],
   "source": [
    "d = r.to_pandas()[columns]"
   ]
  },
  {
   "cell_type": "code",
   "execution_count": 12,
   "metadata": {
    "collapsed": false,
    "scrolled": false
   },
   "outputs": [
    {
     "data": {
      "text/html": [
       "<div>\n",
       "<style scoped>\n",
       "    .dataframe tbody tr th:only-of-type {\n",
       "        vertical-align: middle;\n",
       "    }\n",
       "\n",
       "    .dataframe tbody tr th {\n",
       "        vertical-align: top;\n",
       "    }\n",
       "\n",
       "    .dataframe thead th {\n",
       "        text-align: right;\n",
       "    }\n",
       "</style>\n",
       "<table border=\"1\" class=\"dataframe\">\n",
       "  <thead>\n",
       "    <tr style=\"text-align: right;\">\n",
       "      <th></th>\n",
       "      <th>ra</th>\n",
       "      <th>ra_error</th>\n",
       "      <th>dec</th>\n",
       "      <th>dec_error</th>\n",
       "      <th>ra_dec_corr</th>\n",
       "      <th>phot_g_mean_mag</th>\n",
       "    </tr>\n",
       "  </thead>\n",
       "  <tbody>\n",
       "    <tr>\n",
       "      <th>0</th>\n",
       "      <td>0.085</td>\n",
       "      <td>0.325</td>\n",
       "      <td>-32.350</td>\n",
       "      <td>0.235</td>\n",
       "      <td>-0.070</td>\n",
       "      <td>17.960</td>\n",
       "    </tr>\n",
       "    <tr>\n",
       "      <th>1</th>\n",
       "      <td>0.272</td>\n",
       "      <td>0.484</td>\n",
       "      <td>-15.852</td>\n",
       "      <td>0.289</td>\n",
       "      <td>0.300</td>\n",
       "      <td>18.211</td>\n",
       "    </tr>\n",
       "    <tr>\n",
       "      <th>2</th>\n",
       "      <td>0.550</td>\n",
       "      <td>1.393</td>\n",
       "      <td>-21.886</td>\n",
       "      <td>0.773</td>\n",
       "      <td>0.465</td>\n",
       "      <td>19.076</td>\n",
       "    </tr>\n",
       "    <tr>\n",
       "      <th>3</th>\n",
       "      <td>0.816</td>\n",
       "      <td>0.477</td>\n",
       "      <td>-19.697</td>\n",
       "      <td>0.272</td>\n",
       "      <td>0.389</td>\n",
       "      <td>18.973</td>\n",
       "    </tr>\n",
       "    <tr>\n",
       "      <th>4</th>\n",
       "      <td>0.828</td>\n",
       "      <td>0.591</td>\n",
       "      <td>-19.456</td>\n",
       "      <td>0.359</td>\n",
       "      <td>0.152</td>\n",
       "      <td>19.246</td>\n",
       "    </tr>\n",
       "    <tr>\n",
       "      <th>5</th>\n",
       "      <td>1.020</td>\n",
       "      <td>0.395</td>\n",
       "      <td>-11.816</td>\n",
       "      <td>0.302</td>\n",
       "      <td>0.820</td>\n",
       "      <td>19.236</td>\n",
       "    </tr>\n",
       "    <tr>\n",
       "      <th>6</th>\n",
       "      <td>1.149</td>\n",
       "      <td>0.558</td>\n",
       "      <td>-47.605</td>\n",
       "      <td>0.786</td>\n",
       "      <td>-0.436</td>\n",
       "      <td>19.854</td>\n",
       "    </tr>\n",
       "    <tr>\n",
       "      <th>7</th>\n",
       "      <td>1.268</td>\n",
       "      <td>0.519</td>\n",
       "      <td>54.474</td>\n",
       "      <td>0.829</td>\n",
       "      <td>-0.202</td>\n",
       "      <td>18.581</td>\n",
       "    </tr>\n",
       "    <tr>\n",
       "      <th>8</th>\n",
       "      <td>1.325</td>\n",
       "      <td>0.339</td>\n",
       "      <td>-16.801</td>\n",
       "      <td>0.188</td>\n",
       "      <td>0.426</td>\n",
       "      <td>17.722</td>\n",
       "    </tr>\n",
       "    <tr>\n",
       "      <th>9</th>\n",
       "      <td>1.334</td>\n",
       "      <td>0.242</td>\n",
       "      <td>5.403</td>\n",
       "      <td>0.157</td>\n",
       "      <td>0.764</td>\n",
       "      <td>16.070</td>\n",
       "    </tr>\n",
       "  </tbody>\n",
       "</table>\n",
       "</div>"
      ],
      "text/plain": [
       "      ra  ra_error     dec  dec_error  ra_dec_corr  phot_g_mean_mag\n",
       "0  0.085     0.325 -32.350      0.235       -0.070           17.960\n",
       "1  0.272     0.484 -15.852      0.289        0.300           18.211\n",
       "2  0.550     1.393 -21.886      0.773        0.465           19.076\n",
       "3  0.816     0.477 -19.697      0.272        0.389           18.973\n",
       "4  0.828     0.591 -19.456      0.359        0.152           19.246\n",
       "5  1.020     0.395 -11.816      0.302        0.820           19.236\n",
       "6  1.149     0.558 -47.605      0.786       -0.436           19.854\n",
       "7  1.268     0.519  54.474      0.829       -0.202           18.581\n",
       "8  1.325     0.339 -16.801      0.188        0.426           17.722\n",
       "9  1.334     0.242   5.403      0.157        0.764           16.070"
      ]
     },
     "execution_count": 12,
     "metadata": {},
     "output_type": "execute_result"
    }
   ],
   "source": [
    "d[:10].round(3)"
   ]
  },
  {
   "cell_type": "markdown",
   "metadata": {},
   "source": [
    "Correlation\n",
    "\n",
    "$$ M=\n",
    "  \\begin{bmatrix}\n",
    "    ra_{error} & dec_{error} \\\\\n",
    "  \\end{bmatrix} \n",
    "  \\begin{bmatrix}\n",
    "    1 & corr \\\\\n",
    "    coor & 1 \\\\\n",
    "  \\end{bmatrix} \n",
    "  \\begin{bmatrix}\n",
    "    ra_{error} \\\\\n",
    "    dec_{error} \\\\\n",
    "  \\end{bmatrix}  $$\n",
    "\n",
    "$$\\sigma^2 = \\frac{ra_{error}^2 + dec_{error}^2 + \\sqrt{(ra_{error} − dec_{error})^2 + (2  ra_{error} dec_{error}  corr)^2}}{2}$$"
   ]
  },
  {
   "cell_type": "code",
   "execution_count": 13,
   "metadata": {
    "collapsed": true
   },
   "outputs": [],
   "source": [
    "def pos_sigma(ea,ed,c) : \n",
    "    res = np.power(ea,2) + np.power(ed,2) \n",
    "    res = res + np.sqrt(np.power(ea-ed,2) + np.power(2*ea*ed*c,2))\n",
    "    return res/2"
   ]
  },
  {
   "cell_type": "code",
   "execution_count": 14,
   "metadata": {
    "collapsed": false
   },
   "outputs": [],
   "source": [
    "d['sigma'] = pos_sigma(d.ra_error,d.dec_error,d.ra_dec_corr)"
   ]
  },
  {
   "cell_type": "code",
   "execution_count": 15,
   "metadata": {
    "collapsed": true
   },
   "outputs": [],
   "source": [
    "def DR1error(g): \n",
    "    if g <= 15 :\n",
    "        return 0.05 \n",
    "    return 0.05*np.exp(0.2*(g-15)*(g-15))\n",
    "\n",
    "DR1error = np.vectorize(DR1error)"
   ]
  },
  {
   "cell_type": "code",
   "execution_count": 16,
   "metadata": {
    "collapsed": false
   },
   "outputs": [
    {
     "data": {
      "text/plain": [
       "<matplotlib.text.Text at 0x11cb55780>"
      ]
     },
     "execution_count": 16,
     "metadata": {},
     "output_type": "execute_result"
    },
    {
     "data": {
      "image/png": "[encoded data removed]",
      "text/plain": [
       "<matplotlib.figure.Figure at 0x11c8caac8>"
      ]
     },
     "metadata": {},
     "output_type": "display_data"
    }
   ],
   "source": [
    "plt.subplot(221)\n",
    "d.sigma.hist(bins=100,range=(0,1))\n",
    "plt.xlabel(\"sigma [mas]\")\n",
    "plt.title(\"DR1 QSO position error\")\n",
    "plt.subplot(222)\n",
    "plt.scatter(d.phot_g_mean_mag,d.sigma,s=1)\n",
    "plt.yscale('log')\n",
    "plt.ylim(1e-2,100)\n",
    "g = np.arange(12,21,0.1) \n",
    "plt.plot(g,DR1error(g))\n",
    "plt.grid()\n",
    "plt.xlabel(\"g [mag]\")\n",
    "plt.ylabel(\"sigma [mas]\")\n",
    "plt.title(\"DR1 QSO position error\")"
   ]
  },
  {
   "cell_type": "markdown",
   "metadata": {},
   "source": [
    "# DR2 errors"
   ]
  },
  {
   "cell_type": "markdown",
   "metadata": {},
   "source": [
    "from https://www.cosmos.esa.int/web/gaia/dr2\n",
    "\n",
    "The five-parameter astrometric solution :\n",
    "- positions on the sky (α, δ), parallaxes, and proper motions \n",
    "- for more than 1.3 billion (1e9) sources, with a limiting magnitude of G = 21 and a bright limit of G ≈ 3. \n",
    "- Parallax uncertainties are in the range of up to 0.04 milliarcsecond for sources at G < 15, around 0.1 mas for sources with G=17 and at the faint end, the uncertainty is of the order of 0.7 mas at G = 20. \n",
    "- The corresponding uncertainties in the respective proper motion components are up to 0.06 mas yr-1 (for G < 15 mag), 0.2 mas yr-1 (for G = 17 mag) and 1.2 mas yr-1 (for G = 20 mag). \n",
    "\n",
    "An additional set of more than 200 million sources for which a two-parameter solution is available:\n",
    "- the positions on the sky (α, δ) combined with the mean G magnitude, with a limiting magnitude of G ≈ 21 and a bright limit of G ≈ 3. \n",
    "- These sources will have a positional uncertainty at G=20 of about 2 mas, at J2015.5.\n",
    "\n",
    "The Gaia DR2 parallaxes and proper motions are based only on Gaia data; they do no longer depend on the Tycho-2 Catalogue."
   ]
  },
  {
   "cell_type": "code",
   "execution_count": 17,
   "metadata": {
    "collapsed": true
   },
   "outputs": [],
   "source": [
    "def pm_error_DR2(g): \n",
    "    if g <= 15 :\n",
    "        return 0.06\n",
    "    return 0.06*np.exp(0.6*(g-15))\n",
    "\n",
    "pm_error_DR2 = np.vectorize(pm_error_DR2)"
   ]
  },
  {
   "cell_type": "code",
   "execution_count": 18,
   "metadata": {
    "collapsed": false
   },
   "outputs": [
    {
     "data": {
      "text/plain": [
       "<matplotlib.text.Text at 0x11ce34518>"
      ]
     },
     "execution_count": 18,
     "metadata": {},
     "output_type": "execute_result"
    },
    {
     "data": {
      "image/png": "[encoded data removed]",
      "text/plain": [
       "<matplotlib.figure.Figure at 0x11d4a4588>"
      ]
     },
     "metadata": {},
     "output_type": "display_data"
    }
   ],
   "source": [
    "g = np.arange(12,20,0.01) \n",
    "plt.plot(g,pm_error_DR2(g))\n",
    "plt.scatter(17,0.2,c='C1')\n",
    "plt.scatter(20,1.2,c='C1')\n",
    "plt.grid()\n",
    "plt.title(\"DR2 pm error\")"
   ]
  },
  {
   "cell_type": "code",
   "execution_count": 19,
   "metadata": {
    "collapsed": true
   },
   "outputs": [],
   "source": [
    "def parallax_error_DR2(g): \n",
    "    if g <= 15 :\n",
    "        return 0.04\n",
    "    return 0.04*np.exp(0.5*(g-15)+0.01*(g-15)*(g-15))\n",
    "\n",
    "parallax_error_DR2 = np.vectorize(parallax_error_DR2)"
   ]
  },
  {
   "cell_type": "code",
   "execution_count": 20,
   "metadata": {
    "collapsed": false
   },
   "outputs": [
    {
     "data": {
      "text/plain": [
       "<matplotlib.text.Text at 0x11d092780>"
      ]
     },
     "execution_count": 20,
     "metadata": {},
     "output_type": "execute_result"
    },
    {
     "data": {
      "image/png": "[encoded data removed]",
      "text/plain": [
       "<matplotlib.figure.Figure at 0x11d0c31d0>"
      ]
     },
     "metadata": {},
     "output_type": "display_data"
    }
   ],
   "source": [
    "g = np.arange(12,20,0.01) \n",
    "plt.plot(g,parallax_error_DR2(g))\n",
    "plt.scatter(17,0.1,c='C1')\n",
    "plt.scatter(20,0.7,c='C1')\n",
    "plt.grid()\n",
    "plt.title(\"DR2 parallax error\")"
   ]
  },
  {
   "cell_type": "code",
   "execution_count": null,
   "metadata": {
    "collapsed": true
   },
   "outputs": [],
   "source": []
  },
  {
   "cell_type": "code",
   "execution_count": null,
   "metadata": {
    "collapsed": true
   },
   "outputs": [],
   "source": []
  },
  {
   "cell_type": "code",
   "execution_count": null,
   "metadata": {
    "collapsed": true
   },
   "outputs": [],
   "source": []
  }
 ],
 "metadata": {
  "anaconda-cloud": {},
  "kernelspec": {
   "display_name": "Python [conda root]",
   "language": "python",
   "name": "conda-root-py"
  },
  "language_info": {
   "codemirror_mode": {
    "name": "ipython",
    "version": 3
   },
   "file_extension": ".py",
   "mimetype": "text/x-python",
   "name": "python",
   "nbconvert_exporter": "python",
   "pygments_lexer": "ipython3",
   "version": "3.5.2"
  }
 },
 "nbformat": 4,
 "nbformat_minor": 2
}
